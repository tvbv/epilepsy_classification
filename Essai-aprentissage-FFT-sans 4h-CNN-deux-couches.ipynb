{
 "cells": [
  {
   "cell_type": "markdown",
   "id": "a4e22bbd",
   "metadata": {},
   "source": [
    "# Essai apprentissage - 2 couche\n",
    "Dataset prep : fft + sans 4heure avant sans 4h apres"
   ]
  },
  {
   "cell_type": "code",
   "execution_count": 8,
   "id": "41e5e9be",
   "metadata": {},
   "outputs": [],
   "source": [
    "import tensorflow as tf\n",
    "\n",
    "from tensorflow.keras import datasets, layers, models\n",
    "import matplotlib.pyplot as plt\n",
    "import numpy as np\n",
    "from tensorflow.keras.utils import to_categorical\n",
    "\n",
    "from keras.models import Sequential, Model\n",
    "from keras.layers import Input\n",
    "from keras.layers.core import Dense, Dropout, Activation, Flatten, Lambda, Reshape, Permute\n",
    "from keras.layers.convolutional import Convolution1D, Convolution2D, MaxPooling1D, MaxPooling2D\n",
    "from tensorflow.keras.layers import BatchNormalization\n",
    "from keras.utils import np_utils\n",
    "from tensorflow.keras.optimizers import SGD,Adam,Adagrad,Adadelta,RMSprop\n",
    "from keras.constraints import max_norm"
   ]
  },
  {
   "cell_type": "markdown",
   "id": "b8e1ae0f",
   "metadata": {},
   "source": [
    "# Training du CNN sur le patient 1"
   ]
  },
  {
   "cell_type": "code",
   "execution_count": 9,
   "id": "2350b88b",
   "metadata": {},
   "outputs": [],
   "source": [
    "x,y = np.load('/data/thomas/classification epilepsy/chb-mit-scalp-eeg-database-1.0.0/dataset/4hours/'+str(1)+'_x_4hours.npy'),np.load('/data/thomas/classification epilepsy/chb-mit-scalp-eeg-database-1.0.0/dataset/4hours/'+str(1)+'_y_4hours.npy')\n",
    "train_images, train_labels,test_images, test_labels = np.expand_dims(x[19075:],-1),to_categorical(y[19075:]),np.expand_dims(x[:19075],-1),to_categorical(y[:19075])"
   ]
  },
  {
   "cell_type": "code",
   "execution_count": 10,
   "id": "56275d57",
   "metadata": {},
   "outputs": [
    {
     "data": {
      "image/png": "[encoded data removed]",
      "text/plain": [
       "<Figure size 432x288 with 1 Axes>"
      ]
     },
     "metadata": {
      "needs_background": "light"
     },
     "output_type": "display_data"
    },
    {
     "data": {
      "image/png": "[encoded data removed]",
      "text/plain": [
       "<Figure size 432x288 with 1 Axes>"
      ]
     },
     "metadata": {
      "needs_background": "light"
     },
     "output_type": "display_data"
    }
   ],
   "source": [
    "plt.plot(np.arange(0,len(y)),y)\n",
    "plt.show()\n",
    "plt.plot(np.arange(0,len(test_labels)),test_labels[:,1])\n",
    "plt.plot(np.arange(len(test_labels),len(test_labels)+len(train_labels)),train_labels[:,1])\n",
    "plt.show()\n"
   ]
  },
  {
   "cell_type": "code",
   "execution_count": 11,
   "id": "4496ed4b",
   "metadata": {},
   "outputs": [],
   "source": [
    "shuffled_index_train =np.arange(0,len(train_labels))\n",
    "np.random.shuffle(shuffled_index_train)\n",
    "train_images, train_labels = train_images[shuffled_index_train,:,:,:],train_labels[shuffled_index_train,:]"
   ]
  },
  {
   "cell_type": "code",
   "execution_count": 12,
   "id": "66f6bf48",
   "metadata": {},
   "outputs": [
    {
     "data": {
      "image/png": "[encoded data removed]",
      "text/plain": [
       "<Figure size 432x288 with 1 Axes>"
      ]
     },
     "metadata": {
      "needs_background": "light"
     },
     "output_type": "display_data"
    }
   ],
   "source": [
    "plt.plot(np.arange(0,len(test_labels)),test_labels[:,1])\n",
    "plt.plot(np.arange(len(test_labels),len(test_labels)+len(train_labels)),train_labels[:,1],',')\n",
    "plt.show()"
   ]
  },
  {
   "cell_type": "code",
   "execution_count": 13,
   "id": "7a347eaa",
   "metadata": {},
   "outputs": [
    {
     "data": {
      "text/plain": [
       "(87273, 129, 15, 1)"
      ]
     },
     "execution_count": 13,
     "metadata": {},
     "output_type": "execute_result"
    }
   ],
   "source": [
    "train_images.shape"
   ]
  },
  {
   "cell_type": "code",
   "execution_count": 14,
   "id": "7236b0a0",
   "metadata": {},
   "outputs": [],
   "source": [
    "model = models.Sequential()\n",
    "\n",
    "#model.add(layers.Input(train_images.shape[1:]))\n",
    "model.add(layers.BatchNormalization(axis=1, name='normal1'))\n",
    "model.add(layers.Convolution2D(4,(15,5),activation = 'relu',padding='valid', strides=(1,2),name='conv1'))\n",
    "model.add(layers.MaxPooling2D(pool_size=(1,2)))\n",
    "\n",
    "model.add(layers.BatchNormalization(axis=1, name='normal2'))\n",
    "model.add(layers.Convolution2D(4,(1,3),activation = 'relu',padding='valid', strides=(1,2),name='conv2'))\n",
    "model.add(layers.MaxPooling2D(pool_size=(2,1)))\n",
    "\n",
    "#model.add(layers.BatchNormalization(axis=1, name='normal3'))\n",
    "#model.add(layers.Convolution2D(64,(1,3),activation = 'relu',padding='valid', strides=(1,1),name='conv3'))\n",
    "#model.add(layers.MaxPooling2D(pool_size=(2,1)))\n",
    "\n",
    "model.add(layers.Flatten())\n",
    "\n",
    "model.add(layers.Dropout(0.5))\n",
    "\n",
    "model.add(layers.Dense(64, activation='sigmoid', name='dens1'))\n",
    "model.add(layers.Dropout(0.5))\n",
    "\n",
    "model.add(layers.Dense(2, activation='softmax',name='dens2'))\n",
    "\n",
    "\n",
    "model.compile(\n",
    "    loss='categorical_crossentropy',\n",
    "    optimizer='adam',\n",
    "    metrics=['accuracy','AUC'])\n"
   ]
  },
  {
   "cell_type": "code",
   "execution_count": 15,
   "id": "80661f81",
   "metadata": {},
   "outputs": [
    {
     "name": "stderr",
     "output_type": "stream",
     "text": [
      "2022-07-01 15:31:16.496387: W tensorflow/core/framework/cpu_allocator_impl.cc:82] Allocation of 675493020 exceeds 10% of free system memory.\n"
     ]
    },
    {
     "ename": "InternalError",
     "evalue": "Failed copying input tensor from /job:localhost/replica:0/task:0/device:CPU:0 to /job:localhost/replica:0/task:0/device:GPU:0 in order to run _EagerConst: Dst tensor is not initialized.",
     "output_type": "error",
     "traceback": [
      "\u001b[0;31m---------------------------------------------------------------------------\u001b[0m",
      "\u001b[0;31mInternalError\u001b[0m                             Traceback (most recent call last)",
      "Input \u001b[0;32mIn [15]\u001b[0m, in \u001b[0;36m<cell line: 1>\u001b[0;34m()\u001b[0m\n\u001b[0;32m----> 1\u001b[0m history \u001b[38;5;241m=\u001b[39m \u001b[43mmodel\u001b[49m\u001b[38;5;241;43m.\u001b[39;49m\u001b[43mfit\u001b[49m\u001b[43m(\u001b[49m\u001b[43mtrain_images\u001b[49m\u001b[43m,\u001b[49m\u001b[43m \u001b[49m\u001b[43mtrain_labels\u001b[49m\u001b[43m,\u001b[49m\u001b[43m \u001b[49m\u001b[43mepochs\u001b[49m\u001b[38;5;241;43m=\u001b[39;49m\u001b[38;5;241;43m10\u001b[39;49m\u001b[43m,\u001b[49m\u001b[43m \u001b[49m\n\u001b[1;32m      2\u001b[0m \u001b[43m                    \u001b[49m\u001b[43mvalidation_data\u001b[49m\u001b[38;5;241;43m=\u001b[39;49m\u001b[43m(\u001b[49m\u001b[43mtest_images\u001b[49m\u001b[43m,\u001b[49m\u001b[43m \u001b[49m\u001b[43mtest_labels\u001b[49m\u001b[43m)\u001b[49m\u001b[43m)\u001b[49m\n",
      "File \u001b[0;32m~/anaconda3/envs/ts/lib/python3.10/site-packages/keras/utils/traceback_utils.py:67\u001b[0m, in \u001b[0;36mfilter_traceback.<locals>.error_handler\u001b[0;34m(*args, **kwargs)\u001b[0m\n\u001b[1;32m     65\u001b[0m \u001b[38;5;28;01mexcept\u001b[39;00m \u001b[38;5;167;01mException\u001b[39;00m \u001b[38;5;28;01mas\u001b[39;00m e:  \u001b[38;5;66;03m# pylint: disable=broad-except\u001b[39;00m\n\u001b[1;32m     66\u001b[0m   filtered_tb \u001b[38;5;241m=\u001b[39m _process_traceback_frames(e\u001b[38;5;241m.\u001b[39m__traceback__)\n\u001b[0;32m---> 67\u001b[0m   \u001b[38;5;28;01mraise\u001b[39;00m e\u001b[38;5;241m.\u001b[39mwith_traceback(filtered_tb) \u001b[38;5;28;01mfrom\u001b[39;00m \u001b[38;5;28mNone\u001b[39m\n\u001b[1;32m     68\u001b[0m \u001b[38;5;28;01mfinally\u001b[39;00m:\n\u001b[1;32m     69\u001b[0m   \u001b[38;5;28;01mdel\u001b[39;00m filtered_tb\n",
      "File \u001b[0;32m~/anaconda3/envs/ts/lib/python3.10/site-packages/tensorflow/python/framework/constant_op.py:102\u001b[0m, in \u001b[0;36mconvert_to_eager_tensor\u001b[0;34m(value, ctx, dtype)\u001b[0m\n\u001b[1;32m    100\u001b[0m     dtype \u001b[38;5;241m=\u001b[39m dtypes\u001b[38;5;241m.\u001b[39mas_dtype(dtype)\u001b[38;5;241m.\u001b[39mas_datatype_enum\n\u001b[1;32m    101\u001b[0m ctx\u001b[38;5;241m.\u001b[39mensure_initialized()\n\u001b[0;32m--> 102\u001b[0m \u001b[38;5;28;01mreturn\u001b[39;00m \u001b[43mops\u001b[49m\u001b[38;5;241;43m.\u001b[39;49m\u001b[43mEagerTensor\u001b[49m\u001b[43m(\u001b[49m\u001b[43mvalue\u001b[49m\u001b[43m,\u001b[49m\u001b[43m \u001b[49m\u001b[43mctx\u001b[49m\u001b[38;5;241;43m.\u001b[39;49m\u001b[43mdevice_name\u001b[49m\u001b[43m,\u001b[49m\u001b[43m \u001b[49m\u001b[43mdtype\u001b[49m\u001b[43m)\u001b[49m\n",
      "\u001b[0;31mInternalError\u001b[0m: Failed copying input tensor from /job:localhost/replica:0/task:0/device:CPU:0 to /job:localhost/replica:0/task:0/device:GPU:0 in order to run _EagerConst: Dst tensor is not initialized."
     ]
    },
    {
     "name": "stderr",
     "output_type": "stream",
     "text": [
      "2022-07-01 15:31:26.875974: W tensorflow/core/common_runtime/bfc_allocator.cc:462] Allocator (GPU_0_bfc) ran out of memory trying to allocate 644.20MiB (rounded to 675493120)requested by op _EagerConst\n",
      "If the cause is memory fragmentation maybe the environment variable 'TF_GPU_ALLOCATOR=cuda_malloc_async' will improve the situation. \n",
      "Current allocation summary follows.\n",
      "Current allocation summary follows.\n",
      "2022-07-01 15:31:26.876047: I tensorflow/core/common_runtime/bfc_allocator.cc:1010] BFCAllocator dump for GPU_0_bfc\n",
      "2022-07-01 15:31:26.876082: I tensorflow/core/common_runtime/bfc_allocator.cc:1017] Bin (256): \tTotal Chunks: 5, Chunks in use: 5. 1.2KiB allocated for chunks. 1.2KiB in use in bin. 28B client-requested in use in bin.\n",
      "2022-07-01 15:31:26.876108: I tensorflow/core/common_runtime/bfc_allocator.cc:1017] Bin (512): \tTotal Chunks: 0, Chunks in use: 0. 0B allocated for chunks. 0B in use in bin. 0B client-requested in use in bin.\n",
      "2022-07-01 15:31:26.876131: I tensorflow/core/common_runtime/bfc_allocator.cc:1017] Bin (1024): \tTotal Chunks: 0, Chunks in use: 0. 0B allocated for chunks. 0B in use in bin. 0B client-requested in use in bin.\n",
      "2022-07-01 15:31:26.876156: I tensorflow/core/common_runtime/bfc_allocator.cc:1017] Bin (2048): \tTotal Chunks: 1, Chunks in use: 1. 2.0KiB allocated for chunks. 2.0KiB in use in bin. 1.0KiB client-requested in use in bin.\n",
      "2022-07-01 15:31:26.876179: I tensorflow/core/common_runtime/bfc_allocator.cc:1017] Bin (4096): \tTotal Chunks: 0, Chunks in use: 0. 0B allocated for chunks. 0B in use in bin. 0B client-requested in use in bin.\n",
      "2022-07-01 15:31:26.876201: I tensorflow/core/common_runtime/bfc_allocator.cc:1017] Bin (8192): \tTotal Chunks: 0, Chunks in use: 0. 0B allocated for chunks. 0B in use in bin. 0B client-requested in use in bin.\n",
      "2022-07-01 15:31:26.876223: I tensorflow/core/common_runtime/bfc_allocator.cc:1017] Bin (16384): \tTotal Chunks: 0, Chunks in use: 0. 0B allocated for chunks. 0B in use in bin. 0B client-requested in use in bin.\n",
      "2022-07-01 15:31:26.876244: I tensorflow/core/common_runtime/bfc_allocator.cc:1017] Bin (32768): \tTotal Chunks: 0, Chunks in use: 0. 0B allocated for chunks. 0B in use in bin. 0B client-requested in use in bin.\n",
      "2022-07-01 15:31:26.876266: I tensorflow/core/common_runtime/bfc_allocator.cc:1017] Bin (65536): \tTotal Chunks: 0, Chunks in use: 0. 0B allocated for chunks. 0B in use in bin. 0B client-requested in use in bin.\n",
      "2022-07-01 15:31:26.876287: I tensorflow/core/common_runtime/bfc_allocator.cc:1017] Bin (131072): \tTotal Chunks: 0, Chunks in use: 0. 0B allocated for chunks. 0B in use in bin. 0B client-requested in use in bin.\n",
      "2022-07-01 15:31:26.876309: I tensorflow/core/common_runtime/bfc_allocator.cc:1017] Bin (262144): \tTotal Chunks: 0, Chunks in use: 0. 0B allocated for chunks. 0B in use in bin. 0B client-requested in use in bin.\n",
      "2022-07-01 15:31:26.876331: I tensorflow/core/common_runtime/bfc_allocator.cc:1017] Bin (524288): \tTotal Chunks: 0, Chunks in use: 0. 0B allocated for chunks. 0B in use in bin. 0B client-requested in use in bin.\n",
      "2022-07-01 15:31:26.876353: I tensorflow/core/common_runtime/bfc_allocator.cc:1017] Bin (1048576): \tTotal Chunks: 0, Chunks in use: 0. 0B allocated for chunks. 0B in use in bin. 0B client-requested in use in bin.\n",
      "2022-07-01 15:31:26.876375: I tensorflow/core/common_runtime/bfc_allocator.cc:1017] Bin (2097152): \tTotal Chunks: 0, Chunks in use: 0. 0B allocated for chunks. 0B in use in bin. 0B client-requested in use in bin.\n",
      "2022-07-01 15:31:26.876397: I tensorflow/core/common_runtime/bfc_allocator.cc:1017] Bin (4194304): \tTotal Chunks: 0, Chunks in use: 0. 0B allocated for chunks. 0B in use in bin. 0B client-requested in use in bin.\n",
      "2022-07-01 15:31:26.876419: I tensorflow/core/common_runtime/bfc_allocator.cc:1017] Bin (8388608): \tTotal Chunks: 0, Chunks in use: 0. 0B allocated for chunks. 0B in use in bin. 0B client-requested in use in bin.\n",
      "2022-07-01 15:31:26.876444: I tensorflow/core/common_runtime/bfc_allocator.cc:1017] Bin (16777216): \tTotal Chunks: 1, Chunks in use: 0. 16.06MiB allocated for chunks. 0B in use in bin. 0B client-requested in use in bin.\n",
      "2022-07-01 15:31:26.876470: I tensorflow/core/common_runtime/bfc_allocator.cc:1017] Bin (33554432): \tTotal Chunks: 0, Chunks in use: 0. 0B allocated for chunks. 0B in use in bin. 0B client-requested in use in bin.\n",
      "2022-07-01 15:31:26.876490: I tensorflow/core/common_runtime/bfc_allocator.cc:1017] Bin (67108864): \tTotal Chunks: 0, Chunks in use: 0. 0B allocated for chunks. 0B in use in bin. 0B client-requested in use in bin.\n",
      "2022-07-01 15:31:26.876511: I tensorflow/core/common_runtime/bfc_allocator.cc:1017] Bin (134217728): \tTotal Chunks: 0, Chunks in use: 0. 0B allocated for chunks. 0B in use in bin. 0B client-requested in use in bin.\n",
      "2022-07-01 15:31:26.876532: I tensorflow/core/common_runtime/bfc_allocator.cc:1017] Bin (268435456): \tTotal Chunks: 0, Chunks in use: 0. 0B allocated for chunks. 0B in use in bin. 0B client-requested in use in bin.\n",
      "2022-07-01 15:31:26.877128: I tensorflow/core/common_runtime/bfc_allocator.cc:1033] Bin for 644.20MiB was 256.00MiB, Chunk State: \n",
      "2022-07-01 15:31:26.877218: I tensorflow/core/common_runtime/bfc_allocator.cc:1046] Next region of size 2304\n",
      "2022-07-01 15:31:26.877251: I tensorflow/core/common_runtime/bfc_allocator.cc:1066] InUse at 7f575e600000 of size 256 next 1\n",
      "2022-07-01 15:31:26.877273: I tensorflow/core/common_runtime/bfc_allocator.cc:1066] InUse at 7f575e600100 of size 2048 next 18446744073709551615\n",
      "2022-07-01 15:31:26.877293: I tensorflow/core/common_runtime/bfc_allocator.cc:1046] Next region of size 16840448\n",
      "2022-07-01 15:31:26.877313: I tensorflow/core/common_runtime/bfc_allocator.cc:1066] InUse at 7f575e800000 of size 256 next 3\n",
      "2022-07-01 15:31:26.877332: I tensorflow/core/common_runtime/bfc_allocator.cc:1066] InUse at 7f575e800100 of size 256 next 4\n",
      "2022-07-01 15:31:26.877350: I tensorflow/core/common_runtime/bfc_allocator.cc:1066] InUse at 7f575e800200 of size 256 next 5\n",
      "2022-07-01 15:31:26.877369: I tensorflow/core/common_runtime/bfc_allocator.cc:1066] InUse at 7f575e800300 of size 256 next 6\n",
      "2022-07-01 15:31:26.877388: I tensorflow/core/common_runtime/bfc_allocator.cc:1066] Free  at 7f575e800400 of size 16839424 next 18446744073709551615\n",
      "2022-07-01 15:31:26.877406: I tensorflow/core/common_runtime/bfc_allocator.cc:1071]      Summary of in-use Chunks by size: \n",
      "2022-07-01 15:31:26.877430: I tensorflow/core/common_runtime/bfc_allocator.cc:1074] 5 Chunks of size 256 totalling 1.2KiB\n",
      "2022-07-01 15:31:26.877450: I tensorflow/core/common_runtime/bfc_allocator.cc:1074] 1 Chunks of size 2048 totalling 2.0KiB\n",
      "2022-07-01 15:31:26.877469: I tensorflow/core/common_runtime/bfc_allocator.cc:1078] Sum Total of in-use chunks: 3.2KiB\n",
      "2022-07-01 15:31:26.877489: I tensorflow/core/common_runtime/bfc_allocator.cc:1080] total_region_allocated_bytes_: 16842752 memory_limit_: 16842752 available bytes: 0 curr_region_allocation_bytes_: 67371008\n",
      "2022-07-01 15:31:26.877516: I tensorflow/core/common_runtime/bfc_allocator.cc:1086] Stats: \n",
      "Limit:                        16842752\n",
      "InUse:                            3328\n",
      "MaxInUse:                         3328\n",
      "NumAllocs:                           6\n",
      "MaxAllocSize:                     2048\n",
      "Reserved:                            0\n",
      "PeakReserved:                        0\n",
      "LargestFreeBlock:                    0\n",
      "\n",
      "2022-07-01 15:31:26.877540: W tensorflow/core/common_runtime/bfc_allocator.cc:474] *___________________________________________________________________________________________________\n"
     ]
    }
   ],
   "source": [
    "\n",
    "\n",
    "history = model.fit(train_images, train_labels, epochs=10, \n",
    "                    validation_data=(test_images, test_labels))\n"
   ]
  },
  {
   "cell_type": "code",
   "execution_count": null,
   "id": "b7b87245",
   "metadata": {},
   "outputs": [],
   "source": [
    "plt.plot(history.history['val_auc'], label = 'val_AUC')\n",
    "plt.xlabel('Epoch')\n",
    "plt.ylabel('AUC')\n",
    "plt.ylim([0.5, 1])\n",
    "plt.legend(loc='lower right')\n",
    "\n",
    "model.evaluate(test_images,  test_labels, verbose=2)\n"
   ]
  },
  {
   "cell_type": "code",
   "execution_count": null,
   "id": "1bc120f2",
   "metadata": {},
   "outputs": [],
   "source": [
    "for i in range(len(model.layers)-7):\n",
    "    model.layers[i].trainable = False"
   ]
  },
  {
   "cell_type": "markdown",
   "id": "350375db",
   "metadata": {},
   "source": [
    "# Transfert du modèle sur le patient 10"
   ]
  },
  {
   "cell_type": "code",
   "execution_count": null,
   "id": "6939413b",
   "metadata": {},
   "outputs": [],
   "source": [
    "x2,y2 = np.load('/data/thomas/classification epilepsy/chb-mit-scalp-eeg-database-1.0.0/dataset/4hours/'+str(10)+'_x_4hours.npy'),np.load('/data/thomas/classification epilepsy/chb-mit-scalp-eeg-database-1.0.0/dataset/4hours/'+str(10)+'_y_4hours.npy')\n",
    "plt.plot(np.arange(0,len(y2)),y2)\n",
    "plt.show()"
   ]
  },
  {
   "cell_type": "code",
   "execution_count": null,
   "id": "5de06929",
   "metadata": {},
   "outputs": [],
   "source": [
    "model.evaluate(np.expand_dims(x2,-1),  to_categorical(y2), verbose=2)"
   ]
  },
  {
   "cell_type": "code",
   "execution_count": null,
   "id": "35856360",
   "metadata": {},
   "outputs": [],
   "source": [
    "x2_train, y2_train, x2_test, y2_test = np.concatenate((x2[:47000],x2[70000:])),np.concatenate((y2[:47000],y2[70000:])),x2[47000:70000,:,:],y2[47000:70000]\n"
   ]
  },
  {
   "cell_type": "code",
   "execution_count": null,
   "id": "eb1990fa",
   "metadata": {},
   "outputs": [],
   "source": [
    "plt.plot(np.arange(0,len(y2_train)),y2_train)\n",
    "plt.show()\n",
    "plt.plot(np.arange(0,len(y2_test)),y2_test)\n",
    "plt.show()\n",
    "plt.plot(np.concatenate((np.arange(0,len(y2))[:47000],np.arange(0,len(y2))[70000:])),np.concatenate((y2[:47000],y2[70000:])))\n",
    "plt.plot(np.arange(0,len(y2))[47000:70000],y2[47000:70000])\n",
    "plt.show()"
   ]
  },
  {
   "cell_type": "code",
   "execution_count": null,
   "id": "a3653314",
   "metadata": {},
   "outputs": [],
   "source": [
    "shuffled_index_train =np.arange(0,len(y2_train))\n",
    "np.random.shuffle(shuffled_index_train)\n",
    "x2_train,y2_train = x2_train[shuffled_index_train,:,:],y2_train[shuffled_index_train]\n",
    "x2_train, y2_train, x2_test, y2_test= np.expand_dims(x2_train,-1),to_categorical(y2_train),np.expand_dims(x2_test,-1),to_categorical(y2_test)\n",
    "history = model.fit(x2_train, y2_train, epochs=2, \n",
    "                    validation_data=(x2_test, y2_test))"
   ]
  },
  {
   "cell_type": "code",
   "execution_count": null,
   "id": "dcff3f71",
   "metadata": {},
   "outputs": [],
   "source": [
    "plt.plot(history.history['val_auc'], label = 'val_AUC')\n",
    "plt.xlabel('Epoch')\n",
    "plt.ylabel('AUC')\n",
    "plt.ylim([0.5, 1])\n",
    "plt.legend(loc='lower right')"
   ]
  },
  {
   "cell_type": "markdown",
   "id": "b8938636",
   "metadata": {},
   "source": [
    "# transfert du modele sur le patient 20"
   ]
  },
  {
   "cell_type": "code",
   "execution_count": null,
   "id": "5afb1ca6",
   "metadata": {},
   "outputs": [],
   "source": [
    "n_patient = 20\n",
    "x2,y2 = np.load('/data/thomas/classification epilepsy/chb-mit-scalp-eeg-database-1.0.0/dataset/4hours/'+str(n_patient)+'_x_4hours.npy'),np.load('/data/thomas/classification epilepsy/chb-mit-scalp-eeg-database-1.0.0/dataset/4hours/'+str(n_patient)+'_y_4hours.npy')\n",
    "plt.plot(np.arange(0,len(y2)),y2)\n",
    "plt.show()"
   ]
  },
  {
   "cell_type": "code",
   "execution_count": null,
   "id": "50839bbc",
   "metadata": {},
   "outputs": [],
   "source": [
    "model.evaluate(np.expand_dims(x2,-1),  to_categorical(y2), verbose=2)"
   ]
  },
  {
   "cell_type": "code",
   "execution_count": null,
   "id": "04cee08e",
   "metadata": {},
   "outputs": [],
   "source": [
    "x2_train, y2_train, x2_test, y2_test = x2[:50000],y2[:50000],x2[50000:],y2[50000:]\n"
   ]
  },
  {
   "cell_type": "code",
   "execution_count": null,
   "id": "5cd6b978",
   "metadata": {},
   "outputs": [],
   "source": [
    "shuffled_index_train =np.arange(0,len(y2_train))\n",
    "np.random.shuffle(shuffled_index_train)\n",
    "x2_train,y2_train = x2_train[shuffled_index_train,:,:],y2_train[shuffled_index_train]\n",
    "x2_train, y2_train, x2_test, y2_test= np.expand_dims(x2_train,-1),to_categorical(y2_train),np.expand_dims(x2_test,-1),to_categorical(y2_test)\n",
    "history = model.fit(x2_train, y2_train, epochs=2, \n",
    "                    validation_data=(x2_test, y2_test))"
   ]
  },
  {
   "cell_type": "code",
   "execution_count": null,
   "id": "816e56f6",
   "metadata": {},
   "outputs": [],
   "source": [
    "plt.plot(history.history['val_auc'], label = 'val_AUC')\n",
    "plt.xlabel('Epoch')\n",
    "plt.ylabel('AUC')\n",
    "plt.ylim([0.5, 1])\n",
    "plt.legend(loc='lower right')"
   ]
  }
 ],
 "metadata": {
  "kernelspec": {
   "display_name": "Python 3 (ipykernel)",
   "language": "python",
   "name": "python3"
  },
  "language_info": {
   "codemirror_mode": {
    "name": "ipython",
    "version": 3
   },
   "file_extension": ".py",
   "mimetype": "text/x-python",
   "name": "python",
   "nbconvert_exporter": "python",
   "pygments_lexer": "ipython3",
   "version": "3.10.4"
  }
 },
 "nbformat": 4,
 "nbformat_minor": 5
}

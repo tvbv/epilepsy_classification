{
 "cells": [
  {
   "cell_type": "markdown",
   "id": "c8255911",
   "metadata": {},
   "source": [
    "# Essai apprentissage - fully connected\n",
    "Dataset prep : FFT + sans 4heure avant sans 4h apres"
   ]
  },
  {
   "cell_type": "code",
   "execution_count": 1,
   "id": "c33077cb",
   "metadata": {},
   "outputs": [],
   "source": [
    "import tensorflow as tf\n",
    "\n",
    "from tensorflow.keras import datasets, layers, models\n",
    "import matplotlib.pyplot as plt\n",
    "import numpy as np\n",
    "from tensorflow.keras.utils import to_categorical\n",
    "\n",
    "from keras.models import Sequential, Model\n",
    "from keras.layers import Input\n",
    "from keras.layers.core import Dense, Dropout, Activation, Flatten, Lambda, Reshape, Permute\n",
    "from keras.layers.convolutional import Convolution1D, Convolution2D, MaxPooling1D, MaxPooling2D\n",
    "from tensorflow.keras.layers import BatchNormalization\n",
    "from keras.utils import np_utils\n",
    "from tensorflow.keras.optimizers import SGD,Adam,Adagrad,Adadelta,RMSprop\n",
    "from keras.constraints import max_norm"
   ]
  },
  {
   "cell_type": "markdown",
   "id": "e4998c61",
   "metadata": {},
   "source": [
    "# Training du CNN sur le patient 1"
   ]
  },
  {
   "cell_type": "code",
   "execution_count": 2,
   "id": "485cdee4",
   "metadata": {},
   "outputs": [],
   "source": [
    "x,y = np.load('/data/thomas/classification epilepsy/chb-mit-scalp-eeg-database-1.0.0/dataset/4hours/'+str(1)+'_x_4hours.npy'),np.load('/data/thomas/classification epilepsy/chb-mit-scalp-eeg-database-1.0.0/dataset/4hours/'+str(1)+'_y_4hours.npy')\n",
    "train_images, train_labels,test_images, test_labels = np.expand_dims(x[19075:],-1),to_categorical(y[19075:]),np.expand_dims(x[:19075],-1),to_categorical(y[:19075])"
   ]
  },
  {
   "cell_type": "code",
   "execution_count": 3,
   "id": "64307cb5",
   "metadata": {},
   "outputs": [
    {
     "data": {
      "image/png": "[encoded data removed]",
      "text/plain": [
       "<Figure size 432x288 with 1 Axes>"
      ]
     },
     "metadata": {
      "needs_background": "light"
     },
     "output_type": "display_data"
    },
    {
     "data": {
      "image/png": "[encoded data removed]",
      "text/plain": [
       "<Figure size 432x288 with 1 Axes>"
      ]
     },
     "metadata": {
      "needs_background": "light"
     },
     "output_type": "display_data"
    }
   ],
   "source": [
    "plt.plot(np.arange(0,len(y)),y)\n",
    "plt.show()\n",
    "plt.plot(np.arange(0,len(test_labels)),test_labels[:,1])\n",
    "plt.plot(np.arange(len(test_labels),len(test_labels)+len(train_labels)),train_labels[:,1])\n",
    "plt.show()\n"
   ]
  },
  {
   "cell_type": "code",
   "execution_count": 4,
   "id": "b052ffa0",
   "metadata": {},
   "outputs": [],
   "source": [
    "shuffled_index_train =np.arange(0,len(train_labels))\n",
    "np.random.shuffle(shuffled_index_train)\n",
    "train_images, train_labels = train_images[shuffled_index_train,:,:,:],train_labels[shuffled_index_train,:]"
   ]
  },
  {
   "cell_type": "code",
   "execution_count": 5,
   "id": "ea872d55",
   "metadata": {},
   "outputs": [
    {
     "data": {
      "image/png": "[encoded data removed]",
      "text/plain": [
       "<Figure size 432x288 with 1 Axes>"
      ]
     },
     "metadata": {
      "needs_background": "light"
     },
     "output_type": "display_data"
    }
   ],
   "source": [
    "plt.plot(np.arange(0,len(test_labels)),test_labels[:,1])\n",
    "plt.plot(np.arange(len(test_labels),len(test_labels)+len(train_labels)),train_labels[:,1],',')\n",
    "plt.show()"
   ]
  },
  {
   "cell_type": "code",
   "execution_count": 6,
   "id": "62242082",
   "metadata": {},
   "outputs": [
    {
     "data": {
      "text/plain": [
       "(87273, 129, 15, 1)"
      ]
     },
     "execution_count": 6,
     "metadata": {},
     "output_type": "execute_result"
    }
   ],
   "source": [
    "train_images.shape"
   ]
  },
  {
   "cell_type": "code",
   "execution_count": 7,
   "id": "33788a96",
   "metadata": {},
   "outputs": [
    {
     "name": "stderr",
     "output_type": "stream",
     "text": [
      "2022-07-07 17:00:14.269212: I tensorflow/core/platform/cpu_feature_guard.cc:151] This TensorFlow binary is optimized with oneAPI Deep Neural Network Library (oneDNN) to use the following CPU instructions in performance-critical operations:  SSE4.1 SSE4.2 AVX AVX2 AVX512F FMA\n",
      "To enable them in other operations, rebuild TensorFlow with the appropriate compiler flags.\n",
      "2022-07-07 17:00:14.793445: I tensorflow/core/common_runtime/gpu/gpu_device.cc:1525] Created device /job:localhost/replica:0/task:0/device:GPU:0 with 9621 MB memory:  -> device: 0, name: NVIDIA GeForce GTX 1080 Ti, pci bus id: 0000:65:00.0, compute capability: 6.1\n"
     ]
    },
    {
     "name": "stdout",
     "output_type": "stream",
     "text": [
      "597/597 - 3s - loss: 0.6958 - accuracy: 0.5771 - auc: 0.5966 - 3s/epoch - 4ms/step\n"
     ]
    },
    {
     "data": {
      "text/plain": [
       "[0.6958470344543457, 0.5770904421806335, 0.5966469645500183]"
      ]
     },
     "execution_count": 7,
     "metadata": {},
     "output_type": "execute_result"
    }
   ],
   "source": [
    "model = models.Sequential()\n",
    "\n",
    "model.add(layers.Flatten())\n",
    "model.add(layers.Dropout(0.5))\n",
    "\n",
    "model.add(layers.Dense(512, activation='relu',name='dens0'))\n",
    "model.add(layers.Dropout(0.5))\n",
    "\n",
    "model.add(layers.Dense(128, activation='relu',name='dens1'))\n",
    "model.add(layers.Dropout(0.5))\n",
    "\n",
    "model.add(layers.Dense(32, activation='relu',name='dens2'))\n",
    "model.add(layers.Dropout(0.5))\n",
    "\n",
    "model.add(layers.Dense(16, activation='relu',name='dens3'))\n",
    "model.add(layers.Dropout(0.5))\n",
    "\n",
    "model.add(layers.Dense(2, activation='softmax',name='dens4'))\n",
    "\n",
    "\n",
    "model.compile(\n",
    "    loss='categorical_crossentropy',\n",
    "    optimizer='adam',\n",
    "    metrics=['accuracy','AUC'])\n",
    "model.evaluate(test_images,  test_labels, verbose=2)\n"
   ]
  },
  {
   "cell_type": "code",
   "execution_count": 8,
   "id": "80d681e8",
   "metadata": {},
   "outputs": [
    {
     "name": "stdout",
     "output_type": "stream",
     "text": [
      "Model: \"sequential\"\n",
      "_________________________________________________________________\n",
      " Layer (type)                Output Shape              Param #   \n",
      "=================================================================\n",
      " flatten (Flatten)           (None, 1935)              0         \n",
      "                                                                 \n",
      " dropout (Dropout)           (None, 1935)              0         \n",
      "                                                                 \n",
      " dens0 (Dense)               (None, 512)               991232    \n",
      "                                                                 \n",
      " dropout_1 (Dropout)         (None, 512)               0         \n",
      "                                                                 \n",
      " dens1 (Dense)               (None, 128)               65664     \n",
      "                                                                 \n",
      " dropout_2 (Dropout)         (None, 128)               0         \n",
      "                                                                 \n",
      " dens2 (Dense)               (None, 32)                4128      \n",
      "                                                                 \n",
      " dropout_3 (Dropout)         (None, 32)                0         \n",
      "                                                                 \n",
      " dens3 (Dense)               (None, 16)                528       \n",
      "                                                                 \n",
      " dropout_4 (Dropout)         (None, 16)                0         \n",
      "                                                                 \n",
      " dens4 (Dense)               (None, 2)                 34        \n",
      "                                                                 \n",
      "=================================================================\n",
      "Total params: 1,061,586\n",
      "Trainable params: 1,061,586\n",
      "Non-trainable params: 0\n",
      "_________________________________________________________________\n"
     ]
    }
   ],
   "source": [
    "model.summary()\n"
   ]
  },
  {
   "cell_type": "code",
   "execution_count": 9,
   "id": "be7180df",
   "metadata": {},
   "outputs": [
    {
     "name": "stdout",
     "output_type": "stream",
     "text": [
      "Epoch 1/20\n",
      "2728/2728 [==============================] - 17s 6ms/step - loss: 0.4959 - accuracy: 0.7652 - auc: 0.8555 - val_loss: 0.8597 - val_accuracy: 0.5073 - val_auc: 0.6700\n",
      "Epoch 2/20\n",
      "2728/2728 [==============================] - 16s 6ms/step - loss: 0.2884 - accuracy: 0.8764 - auc: 0.9517 - val_loss: 0.9160 - val_accuracy: 0.5711 - val_auc: 0.7171\n",
      "Epoch 3/20\n",
      "2728/2728 [==============================] - 16s 6ms/step - loss: 0.2698 - accuracy: 0.8829 - auc: 0.9565 - val_loss: 0.6595 - val_accuracy: 0.5893 - val_auc: 0.7219\n",
      "Epoch 4/20\n",
      "2728/2728 [==============================] - 17s 6ms/step - loss: 0.2610 - accuracy: 0.8883 - auc: 0.9591 - val_loss: 0.5433 - val_accuracy: 0.6591 - val_auc: 0.7881\n",
      "Epoch 5/20\n",
      "2728/2728 [==============================] - 16s 6ms/step - loss: 0.2618 - accuracy: 0.8858 - auc: 0.9587 - val_loss: 0.5507 - val_accuracy: 0.6836 - val_auc: 0.7810\n",
      "Epoch 6/20\n",
      "2728/2728 [==============================] - 16s 6ms/step - loss: 0.2555 - accuracy: 0.8883 - auc: 0.9604 - val_loss: 0.5492 - val_accuracy: 0.6983 - val_auc: 0.8079\n",
      "Epoch 7/20\n",
      "2728/2728 [==============================] - 17s 6ms/step - loss: 0.2552 - accuracy: 0.8888 - auc: 0.9604 - val_loss: 0.5640 - val_accuracy: 0.6544 - val_auc: 0.7714\n",
      "Epoch 8/20\n",
      "2728/2728 [==============================] - 17s 6ms/step - loss: 0.2505 - accuracy: 0.8902 - auc: 0.9616 - val_loss: 0.5758 - val_accuracy: 0.6617 - val_auc: 0.7714\n",
      "Epoch 9/20\n",
      "2728/2728 [==============================] - 17s 6ms/step - loss: 0.2499 - accuracy: 0.8910 - auc: 0.9622 - val_loss: 0.5553 - val_accuracy: 0.6643 - val_auc: 0.7777\n",
      "Epoch 10/20\n",
      "2728/2728 [==============================] - 17s 6ms/step - loss: 0.2489 - accuracy: 0.8908 - auc: 0.9623 - val_loss: 0.4432 - val_accuracy: 0.8155 - val_auc: 0.8891\n",
      "Epoch 11/20\n",
      "2728/2728 [==============================] - 16s 6ms/step - loss: 0.2305 - accuracy: 0.8913 - auc: 0.9679 - val_loss: 0.6081 - val_accuracy: 0.6302 - val_auc: 0.7454\n",
      "Epoch 12/20\n",
      "2728/2728 [==============================] - 16s 6ms/step - loss: 0.2255 - accuracy: 0.8912 - auc: 0.9687 - val_loss: 0.5754 - val_accuracy: 0.7159 - val_auc: 0.8082\n",
      "Epoch 13/20\n",
      "2728/2728 [==============================] - 17s 6ms/step - loss: 0.2226 - accuracy: 0.8937 - auc: 0.9697 - val_loss: 0.5816 - val_accuracy: 0.5753 - val_auc: 0.7319\n",
      "Epoch 14/20\n",
      "2728/2728 [==============================] - 16s 6ms/step - loss: 0.2232 - accuracy: 0.8952 - auc: 0.9698 - val_loss: 0.5441 - val_accuracy: 0.6700 - val_auc: 0.7859\n",
      "Epoch 15/20\n",
      "2728/2728 [==============================] - 17s 6ms/step - loss: 0.2239 - accuracy: 0.8925 - auc: 0.9695 - val_loss: 0.8680 - val_accuracy: 0.5142 - val_auc: 0.6744\n",
      "Epoch 16/20\n",
      "2728/2728 [==============================] - 17s 6ms/step - loss: 0.2235 - accuracy: 0.8941 - auc: 0.9696 - val_loss: 0.5993 - val_accuracy: 0.6296 - val_auc: 0.7583\n",
      "Epoch 17/20\n",
      "2728/2728 [==============================] - 16s 6ms/step - loss: 0.2191 - accuracy: 0.8951 - auc: 0.9707 - val_loss: 0.6011 - val_accuracy: 0.6196 - val_auc: 0.7392\n",
      "Epoch 18/20\n",
      "2728/2728 [==============================] - 17s 6ms/step - loss: 0.2230 - accuracy: 0.8949 - auc: 0.9700 - val_loss: 0.4398 - val_accuracy: 0.7972 - val_auc: 0.8862\n",
      "Epoch 19/20\n",
      "2728/2728 [==============================] - 16s 6ms/step - loss: 0.2216 - accuracy: 0.8938 - auc: 0.9699 - val_loss: 0.5731 - val_accuracy: 0.6294 - val_auc: 0.7699\n",
      "Epoch 20/20\n",
      "2728/2728 [==============================] - 17s 6ms/step - loss: 0.2204 - accuracy: 0.8974 - auc: 0.9707 - val_loss: 0.5703 - val_accuracy: 0.6116 - val_auc: 0.7631\n"
     ]
    }
   ],
   "source": [
    "\n",
    "\n",
    "history = model.fit(train_images, train_labels, epochs=20, \n",
    "                    validation_data=(test_images, test_labels))\n"
   ]
  },
  {
   "cell_type": "code",
   "execution_count": 10,
   "id": "26113567",
   "metadata": {},
   "outputs": [
    {
     "name": "stdout",
     "output_type": "stream",
     "text": [
      "597/597 - 2s - loss: 0.5703 - accuracy: 0.6116 - auc: 0.7631 - 2s/epoch - 4ms/step\n"
     ]
    },
    {
     "data": {
      "text/plain": [
       "[0.5703309178352356, 0.6115858554840088, 0.7630852460861206]"
      ]
     },
     "execution_count": 10,
     "metadata": {},
     "output_type": "execute_result"
    },
    {
     "data": {
      "image/png": "[encoded data removed]",
      "text/plain": [
       "<Figure size 432x288 with 1 Axes>"
      ]
     },
     "metadata": {
      "needs_background": "light"
     },
     "output_type": "display_data"
    }
   ],
   "source": [
    "plt.plot(history.history['val_auc'], label = 'val_AUC')\n",
    "plt.xlabel('Epoch')\n",
    "plt.ylabel('AUC')\n",
    "plt.legend(loc='lower right')\n",
    "\n",
    "model.evaluate(test_images,  test_labels, verbose=2)\n"
   ]
  },
  {
   "cell_type": "code",
   "execution_count": 11,
   "id": "97a3922b",
   "metadata": {},
   "outputs": [
    {
     "name": "stdout",
     "output_type": "stream",
     "text": [
      "Model: \"sequential\"\n",
      "_________________________________________________________________\n",
      " Layer (type)                Output Shape              Param #   \n",
      "=================================================================\n",
      " flatten (Flatten)           (None, 1935)              0         \n",
      "                                                                 \n",
      " dropout (Dropout)           (None, 1935)              0         \n",
      "                                                                 \n",
      " dens0 (Dense)               (None, 512)               991232    \n",
      "                                                                 \n",
      " dropout_1 (Dropout)         (None, 512)               0         \n",
      "                                                                 \n",
      " dens1 (Dense)               (None, 128)               65664     \n",
      "                                                                 \n",
      " dropout_2 (Dropout)         (None, 128)               0         \n",
      "                                                                 \n",
      " dens2 (Dense)               (None, 32)                4128      \n",
      "                                                                 \n",
      " dropout_3 (Dropout)         (None, 32)                0         \n",
      "                                                                 \n",
      " dens3 (Dense)               (None, 16)                528       \n",
      "                                                                 \n",
      " dropout_4 (Dropout)         (None, 16)                0         \n",
      "                                                                 \n",
      " dens4 (Dense)               (None, 2)                 34        \n",
      "                                                                 \n",
      "=================================================================\n",
      "Total params: 1,061,586\n",
      "Trainable params: 4,690\n",
      "Non-trainable params: 1,056,896\n",
      "_________________________________________________________________\n"
     ]
    }
   ],
   "source": [
    "for i in range(6):\n",
    "    model.layers[i].trainable = False\n",
    "model.summary()\n"
   ]
  },
  {
   "cell_type": "markdown",
   "id": "76ef6918",
   "metadata": {},
   "source": [
    "# Transfert du modèle sur le patient 10"
   ]
  },
  {
   "cell_type": "code",
   "execution_count": 12,
   "id": "ae7ff5fd",
   "metadata": {},
   "outputs": [
    {
     "data": {
      "image/png": "[encoded data removed]",
      "text/plain": [
       "<Figure size 432x288 with 1 Axes>"
      ]
     },
     "metadata": {
      "needs_background": "light"
     },
     "output_type": "display_data"
    }
   ],
   "source": [
    "x2,y2 = np.load('/data/thomas/classification epilepsy/chb-mit-scalp-eeg-database-1.0.0/dataset/4hours/'+str(10)+'_x_4hours.npy'),np.load('/data/thomas/classification epilepsy/chb-mit-scalp-eeg-database-1.0.0/dataset/4hours/'+str(10)+'_y_4hours.npy')\n",
    "plt.plot(np.arange(0,len(y2)),y2)\n",
    "plt.show()"
   ]
  },
  {
   "cell_type": "code",
   "execution_count": 13,
   "id": "0e6a4377",
   "metadata": {},
   "outputs": [
    {
     "name": "stdout",
     "output_type": "stream",
     "text": [
      "4197/4197 - 14s - loss: 1.2592 - accuracy: 0.4245 - auc: 0.5658 - 14s/epoch - 3ms/step\n"
     ]
    },
    {
     "data": {
      "text/plain": [
       "[1.2591553926467896, 0.4244830012321472, 0.5658316016197205]"
      ]
     },
     "execution_count": 13,
     "metadata": {},
     "output_type": "execute_result"
    }
   ],
   "source": [
    "model.evaluate(np.expand_dims(x2,-1),  to_categorical(y2), verbose=2)"
   ]
  },
  {
   "cell_type": "code",
   "execution_count": 14,
   "id": "4d1008e5",
   "metadata": {},
   "outputs": [],
   "source": [
    "x2_train, y2_train, x2_test, y2_test = np.concatenate((x2[:47000],x2[70000:])),np.concatenate((y2[:47000],y2[70000:])),x2[47000:70000,:,:],y2[47000:70000]\n"
   ]
  },
  {
   "cell_type": "code",
   "execution_count": 15,
   "id": "fa72ce70",
   "metadata": {},
   "outputs": [
    {
     "data": {
      "image/png": "[encoded data removed]",
      "text/plain": [
       "<Figure size 432x288 with 1 Axes>"
      ]
     },
     "metadata": {
      "needs_background": "light"
     },
     "output_type": "display_data"
    },
    {
     "data": {
      "image/png": "[encoded data removed]",
      "text/plain": [
       "<Figure size 432x288 with 1 Axes>"
      ]
     },
     "metadata": {
      "needs_background": "light"
     },
     "output_type": "display_data"
    },
    {
     "data": {
      "image/png": "[encoded data removed]",
      "text/plain": [
       "<Figure size 432x288 with 1 Axes>"
      ]
     },
     "metadata": {
      "needs_background": "light"
     },
     "output_type": "display_data"
    }
   ],
   "source": [
    "plt.plot(np.arange(0,len(y2_train)),y2_train)\n",
    "plt.show()\n",
    "plt.plot(np.arange(0,len(y2_test)),y2_test)\n",
    "plt.show()\n",
    "plt.plot(np.concatenate((np.arange(0,len(y2))[:47000],np.arange(0,len(y2))[70000:])),np.concatenate((y2[:47000],y2[70000:])))\n",
    "plt.plot(np.arange(0,len(y2))[47000:70000],y2[47000:70000])\n",
    "plt.show()"
   ]
  },
  {
   "cell_type": "code",
   "execution_count": 16,
   "id": "8a1f5fe5",
   "metadata": {},
   "outputs": [
    {
     "name": "stdout",
     "output_type": "stream",
     "text": [
      "Epoch 1/10\n",
      "3478/3478 [==============================] - 22s 6ms/step - loss: 0.6793 - accuracy: 0.5738 - auc: 0.6045 - val_loss: 0.5098 - val_accuracy: 0.8053 - val_auc: 0.9087\n",
      "Epoch 2/10\n",
      "3478/3478 [==============================] - 21s 6ms/step - loss: 0.6135 - accuracy: 0.6866 - auc: 0.7291 - val_loss: 0.4355 - val_accuracy: 0.7970 - val_auc: 0.9276\n",
      "Epoch 3/10\n",
      "3478/3478 [==============================] - 21s 6ms/step - loss: 0.5413 - accuracy: 0.7539 - auc: 0.8064 - val_loss: 0.4131 - val_accuracy: 0.8036 - val_auc: 0.9259\n",
      "Epoch 4/10\n",
      "3478/3478 [==============================] - 20s 6ms/step - loss: 0.5209 - accuracy: 0.7724 - auc: 0.8229 - val_loss: 0.3982 - val_accuracy: 0.8115 - val_auc: 0.9413\n",
      "Epoch 5/10\n",
      "3478/3478 [==============================] - 21s 6ms/step - loss: 0.5100 - accuracy: 0.7799 - auc: 0.8301 - val_loss: 0.3961 - val_accuracy: 0.8101 - val_auc: 0.9448\n",
      "Epoch 6/10\n",
      "3478/3478 [==============================] - 20s 6ms/step - loss: 0.4996 - accuracy: 0.7873 - auc: 0.8371 - val_loss: 0.3874 - val_accuracy: 0.8180 - val_auc: 0.9479\n",
      "Epoch 7/10\n",
      "3478/3478 [==============================] - 21s 6ms/step - loss: 0.4880 - accuracy: 0.7954 - auc: 0.8453 - val_loss: 0.3675 - val_accuracy: 0.8362 - val_auc: 0.9367\n",
      "Epoch 8/10\n",
      "3478/3478 [==============================] - 21s 6ms/step - loss: 0.4823 - accuracy: 0.7990 - auc: 0.8495 - val_loss: 0.3742 - val_accuracy: 0.8320 - val_auc: 0.9386\n",
      "Epoch 9/10\n",
      "3478/3478 [==============================] - 21s 6ms/step - loss: 0.4777 - accuracy: 0.8008 - auc: 0.8531 - val_loss: 0.3765 - val_accuracy: 0.8247 - val_auc: 0.9526\n",
      "Epoch 10/10\n",
      "3478/3478 [==============================] - 20s 6ms/step - loss: 0.4761 - accuracy: 0.8022 - auc: 0.8549 - val_loss: 0.3603 - val_accuracy: 0.8281 - val_auc: 0.9453\n"
     ]
    }
   ],
   "source": [
    "shuffled_index_train =np.arange(0,len(y2_train))\n",
    "np.random.shuffle(shuffled_index_train)\n",
    "x2_train,y2_train = x2_train[shuffled_index_train,:,:],y2_train[shuffled_index_train]\n",
    "x2_train, y2_train, x2_test, y2_test= np.expand_dims(x2_train,-1),to_categorical(y2_train),np.expand_dims(x2_test,-1),to_categorical(y2_test)\n",
    "history = model.fit(x2_train, y2_train, epochs=10, \n",
    "                    validation_data=(x2_test, y2_test))"
   ]
  },
  {
   "cell_type": "code",
   "execution_count": 17,
   "id": "5ca1df4c",
   "metadata": {},
   "outputs": [
    {
     "data": {
      "text/plain": [
       "<matplotlib.legend.Legend at 0x7fe5f8413640>"
      ]
     },
     "execution_count": 17,
     "metadata": {},
     "output_type": "execute_result"
    },
    {
     "data": {
      "image/png": "[encoded data removed]",
      "text/plain": [
       "<Figure size 432x288 with 1 Axes>"
      ]
     },
     "metadata": {
      "needs_background": "light"
     },
     "output_type": "display_data"
    }
   ],
   "source": [
    "plt.plot(history.history['val_auc'], label = 'val_AUC')\n",
    "plt.xlabel('Epoch')\n",
    "plt.ylabel('AUC')\n",
    "\n",
    "plt.legend(loc='lower right')"
   ]
  },
  {
   "cell_type": "markdown",
   "id": "c3eab801",
   "metadata": {},
   "source": [
    "# transfert du modele sur le patient 7"
   ]
  },
  {
   "cell_type": "code",
   "execution_count": 18,
   "id": "8bd6bea7",
   "metadata": {},
   "outputs": [
    {
     "data": {
      "image/png": "[encoded data removed]",
      "text/plain": [
       "<Figure size 432x288 with 1 Axes>"
      ]
     },
     "metadata": {
      "needs_background": "light"
     },
     "output_type": "display_data"
    }
   ],
   "source": [
    "n_patient = 7\n",
    "x2,y2 = np.load('/data/thomas/classification epilepsy/chb-mit-scalp-eeg-database-1.0.0/dataset/4hours/'+str(n_patient)+'_x_4hours.npy'),np.load('/data/thomas/classification epilepsy/chb-mit-scalp-eeg-database-1.0.0/dataset/4hours/'+str(n_patient)+'_y_4hours.npy')\n",
    "plt.plot(np.arange(0,len(y2)),y2)\n",
    "plt.show()"
   ]
  },
  {
   "cell_type": "code",
   "execution_count": 19,
   "id": "7cde75aa",
   "metadata": {},
   "outputs": [
    {
     "name": "stderr",
     "output_type": "stream",
     "text": [
      "2022-07-07 17:09:46.898138: W tensorflow/core/framework/cpu_allocator_impl.cc:82] Allocation of 1744766280 exceeds 10% of free system memory.\n",
      "2022-07-07 17:09:48.167018: W tensorflow/core/framework/cpu_allocator_impl.cc:82] Allocation of 1744766280 exceeds 10% of free system memory.\n"
     ]
    },
    {
     "name": "stdout",
     "output_type": "stream",
     "text": [
      "7045/7045 - 24s - loss: 0.3792 - accuracy: 0.8551 - auc: 0.9227 - 24s/epoch - 3ms/step\n"
     ]
    },
    {
     "data": {
      "text/plain": [
       "[0.37916550040245056, 0.855058491230011, 0.922671377658844]"
      ]
     },
     "execution_count": 19,
     "metadata": {},
     "output_type": "execute_result"
    }
   ],
   "source": [
    "model.evaluate(np.expand_dims(x2,-1),  to_categorical(y2), verbose=2)"
   ]
  },
  {
   "cell_type": "code",
   "execution_count": 20,
   "id": "06cde7d5",
   "metadata": {},
   "outputs": [],
   "source": [
    "x2_train, y2_train, x2_test, y2_test = x2[:153000],y2[:153000],x2[153000:],y2[153000:]\n"
   ]
  },
  {
   "cell_type": "code",
   "execution_count": 21,
   "id": "75c9001c",
   "metadata": {},
   "outputs": [
    {
     "name": "stdout",
     "output_type": "stream",
     "text": [
      "Epoch 1/10\n",
      "4782/4782 [==============================] - 33s 7ms/step - loss: 0.3795 - accuracy: 0.8543 - auc: 0.9063 - val_loss: 0.7428 - val_accuracy: 0.7508 - val_auc: 0.7507\n",
      "Epoch 2/10\n",
      "4782/4782 [==============================] - 33s 7ms/step - loss: 0.3238 - accuracy: 0.8730 - auc: 0.9314 - val_loss: 0.7848 - val_accuracy: 0.7508 - val_auc: 0.7508\n",
      "Epoch 3/10\n",
      "4782/4782 [==============================] - 32s 7ms/step - loss: 0.3078 - accuracy: 0.8864 - auc: 0.9359 - val_loss: 0.8052 - val_accuracy: 0.7508 - val_auc: 0.7508\n",
      "Epoch 4/10\n",
      "4782/4782 [==============================] - 33s 7ms/step - loss: 0.2906 - accuracy: 0.8915 - auc: 0.9434 - val_loss: 0.8320 - val_accuracy: 0.7508 - val_auc: 0.7508\n",
      "Epoch 5/10\n",
      "4782/4782 [==============================] - 33s 7ms/step - loss: 0.2832 - accuracy: 0.8940 - auc: 0.9461 - val_loss: 0.7869 - val_accuracy: 0.7508 - val_auc: 0.7508\n",
      "Epoch 6/10\n",
      "4782/4782 [==============================] - 34s 7ms/step - loss: 0.2805 - accuracy: 0.8955 - auc: 0.9471 - val_loss: 0.8979 - val_accuracy: 0.7508 - val_auc: 0.7508\n",
      "Epoch 7/10\n",
      "4782/4782 [==============================] - 33s 7ms/step - loss: 0.2741 - accuracy: 0.8982 - auc: 0.9489 - val_loss: 0.8785 - val_accuracy: 0.7508 - val_auc: 0.7508\n",
      "Epoch 8/10\n",
      "4782/4782 [==============================] - 34s 7ms/step - loss: 0.2702 - accuracy: 0.8984 - auc: 0.9509 - val_loss: 0.8126 - val_accuracy: 0.7508 - val_auc: 0.7508\n",
      "Epoch 9/10\n",
      "4782/4782 [==============================] - 33s 7ms/step - loss: 0.2715 - accuracy: 0.9002 - auc: 0.9498 - val_loss: 0.8816 - val_accuracy: 0.7508 - val_auc: 0.7508\n",
      "Epoch 10/10\n",
      "4782/4782 [==============================] - 33s 7ms/step - loss: 0.2653 - accuracy: 0.9019 - auc: 0.9518 - val_loss: 0.8301 - val_accuracy: 0.7508 - val_auc: 0.7508\n"
     ]
    }
   ],
   "source": [
    "shuffled_index_train =np.arange(0,len(y2_train))\n",
    "np.random.shuffle(shuffled_index_train)\n",
    "x2_train,y2_train = x2_train[shuffled_index_train,:,:],y2_train[shuffled_index_train]\n",
    "x2_train, y2_train, x2_test, y2_test= np.expand_dims(x2_train,-1),to_categorical(y2_train),np.expand_dims(x2_test,-1),to_categorical(y2_test)\n",
    "history = model.fit(x2_train, y2_train, epochs=10, \n",
    "                    validation_data=(x2_test, y2_test))"
   ]
  },
  {
   "cell_type": "code",
   "execution_count": 22,
   "id": "8a556bba",
   "metadata": {},
   "outputs": [
    {
     "data": {
      "text/plain": [
       "<matplotlib.legend.Legend at 0x7fe5f82f7790>"
      ]
     },
     "execution_count": 22,
     "metadata": {},
     "output_type": "execute_result"
    },
    {
     "data": {
      "image/png": "[encoded data removed]",
      "text/plain": [
       "<Figure size 432x288 with 1 Axes>"
      ]
     },
     "metadata": {
      "needs_background": "light"
     },
     "output_type": "display_data"
    }
   ],
   "source": [
    "plt.plot(history.history['val_auc'], label = 'val_AUC')\n",
    "plt.xlabel('Epoch')\n",
    "plt.ylabel('AUC')\n",
    "plt.legend(loc='lower right')"
   ]
  },
  {
   "cell_type": "markdown",
   "id": "a1b60165",
   "metadata": {},
   "source": [
    "# Transfert sur patient 22"
   ]
  },
  {
   "cell_type": "code",
   "execution_count": 23,
   "id": "e1359a97",
   "metadata": {},
   "outputs": [
    {
     "data": {
      "image/png": "[encoded data removed]",
      "text/plain": [
       "<Figure size 432x288 with 1 Axes>"
      ]
     },
     "metadata": {
      "needs_background": "light"
     },
     "output_type": "display_data"
    }
   ],
   "source": [
    "n_patient = 22\n",
    "x2,y2 = np.load('/data/thomas/classification epilepsy/chb-mit-scalp-eeg-database-1.0.0/dataset/4hours/'+str(n_patient)+'_x_4hours.npy'),np.load('/data/thomas/classification epilepsy/chb-mit-scalp-eeg-database-1.0.0/dataset/4hours/'+str(n_patient)+'_y_4hours.npy')\n",
    "plt.plot(np.arange(0,len(y2)),y2)\n",
    "plt.show()"
   ]
  },
  {
   "cell_type": "code",
   "execution_count": 24,
   "id": "e612c0d1",
   "metadata": {},
   "outputs": [
    {
     "name": "stdout",
     "output_type": "stream",
     "text": [
      "2248/2248 - 8s - loss: 1.1570 - accuracy: 0.6475 - auc: 0.6475 - 8s/epoch - 4ms/step\n"
     ]
    },
    {
     "data": {
      "text/plain": [
       "[1.1569643020629883, 0.647534966468811, 0.647534966468811]"
      ]
     },
     "execution_count": 24,
     "metadata": {},
     "output_type": "execute_result"
    }
   ],
   "source": [
    "model.evaluate(np.expand_dims(x2,-1),  to_categorical(y2), verbose=2)"
   ]
  },
  {
   "cell_type": "code",
   "execution_count": 25,
   "id": "1eff69a8",
   "metadata": {},
   "outputs": [],
   "source": [
    "x2_train, y2_train, x2_test, y2_test = np.concatenate((x2[:30000],x2[55000:])),np.concatenate((y2[:30000],y2[55000:])),x2[30000:55000],y2[30000:55000]\n"
   ]
  },
  {
   "cell_type": "code",
   "execution_count": 26,
   "id": "93680979",
   "metadata": {},
   "outputs": [
    {
     "name": "stdout",
     "output_type": "stream",
     "text": [
      "Epoch 1/10\n",
      "1466/1466 [==============================] - 11s 7ms/step - loss: 0.4171 - accuracy: 0.8397 - auc: 0.8920 - val_loss: 0.8828 - val_accuracy: 0.6624 - val_auc: 0.6624\n",
      "Epoch 2/10\n",
      "1466/1466 [==============================] - 11s 7ms/step - loss: 0.3756 - accuracy: 0.8700 - auc: 0.9103 - val_loss: 0.9267 - val_accuracy: 0.6624 - val_auc: 0.6624\n",
      "Epoch 3/10\n",
      "1466/1466 [==============================] - 11s 7ms/step - loss: 0.3667 - accuracy: 0.8758 - auc: 0.9126 - val_loss: 0.9791 - val_accuracy: 0.6624 - val_auc: 0.6624\n",
      "Epoch 4/10\n",
      "1466/1466 [==============================] - 11s 7ms/step - loss: 0.3516 - accuracy: 0.8844 - auc: 0.9186 - val_loss: 0.9973 - val_accuracy: 0.6624 - val_auc: 0.6624\n",
      "Epoch 5/10\n",
      "1466/1466 [==============================] - 11s 7ms/step - loss: 0.3487 - accuracy: 0.8845 - auc: 0.9195 - val_loss: 0.9414 - val_accuracy: 0.6624 - val_auc: 0.6624\n",
      "Epoch 6/10\n",
      "1466/1466 [==============================] - 11s 7ms/step - loss: 0.3483 - accuracy: 0.8859 - auc: 0.9196 - val_loss: 0.9362 - val_accuracy: 0.6624 - val_auc: 0.6639\n",
      "Epoch 7/10\n",
      "1466/1466 [==============================] - 11s 7ms/step - loss: 0.3431 - accuracy: 0.8882 - auc: 0.9218 - val_loss: 0.9067 - val_accuracy: 0.6624 - val_auc: 0.6888\n",
      "Epoch 8/10\n",
      "1466/1466 [==============================] - 11s 7ms/step - loss: 0.3428 - accuracy: 0.8881 - auc: 0.9223 - val_loss: 0.8318 - val_accuracy: 0.6796 - val_auc: 0.7169\n",
      "Epoch 9/10\n",
      "1466/1466 [==============================] - 11s 7ms/step - loss: 0.3353 - accuracy: 0.8926 - auc: 0.9251 - val_loss: 0.6099 - val_accuracy: 0.7078 - val_auc: 0.7902\n",
      "Epoch 10/10\n",
      "1466/1466 [==============================] - 11s 7ms/step - loss: 0.3330 - accuracy: 0.8913 - auc: 0.9270 - val_loss: 0.6996 - val_accuracy: 0.7046 - val_auc: 0.7708\n"
     ]
    }
   ],
   "source": [
    "shuffled_index_train =np.arange(0,len(y2_train))\n",
    "np.random.shuffle(shuffled_index_train)\n",
    "x2_train,y2_train = x2_train[shuffled_index_train,:,:],y2_train[shuffled_index_train]\n",
    "x2_train, y2_train, x2_test, y2_test= np.expand_dims(x2_train,-1),to_categorical(y2_train),np.expand_dims(x2_test,-1),to_categorical(y2_test)\n",
    "history = model.fit(x2_train, y2_train, epochs=10, \n",
    "                    validation_data=(x2_test, y2_test))"
   ]
  },
  {
   "cell_type": "code",
   "execution_count": 27,
   "id": "4ed20fcc",
   "metadata": {},
   "outputs": [
    {
     "data": {
      "text/plain": [
       "<matplotlib.legend.Legend at 0x7fe5f82f7c70>"
      ]
     },
     "execution_count": 27,
     "metadata": {},
     "output_type": "execute_result"
    },
    {
     "data": {
      "image/png": "[encoded data removed]",
      "text/plain": [
       "<Figure size 432x288 with 1 Axes>"
      ]
     },
     "metadata": {
      "needs_background": "light"
     },
     "output_type": "display_data"
    }
   ],
   "source": [
    "plt.plot(history.history['val_auc'], label = 'val_AUC')\n",
    "plt.xlabel('Epoch')\n",
    "plt.ylabel('AUC')\n",
    "plt.legend(loc='lower right')"
   ]
  },
  {
   "cell_type": "markdown",
   "id": "b99bc9f6",
   "metadata": {},
   "source": [
    "# transfert sur patient 16"
   ]
  },
  {
   "cell_type": "code",
   "execution_count": 28,
   "id": "395eefec",
   "metadata": {},
   "outputs": [
    {
     "data": {
      "image/png": "[encoded data removed]",
      "text/plain": [
       "<Figure size 432x288 with 1 Axes>"
      ]
     },
     "metadata": {
      "needs_background": "light"
     },
     "output_type": "display_data"
    }
   ],
   "source": [
    "n_patient = 16\n",
    "x2,y2 = np.load('/data/thomas/classification epilepsy/chb-mit-scalp-eeg-database-1.0.0/dataset/4hours/'+str(n_patient)+'_x_4hours.npy'),np.load('/data/thomas/classification epilepsy/chb-mit-scalp-eeg-database-1.0.0/dataset/4hours/'+str(n_patient)+'_y_4hours.npy')\n",
    "plt.plot(np.arange(0,len(y2)),y2)\n",
    "plt.show()"
   ]
  },
  {
   "cell_type": "code",
   "execution_count": 29,
   "id": "f7b2436c",
   "metadata": {},
   "outputs": [
    {
     "name": "stdout",
     "output_type": "stream",
     "text": [
      "846/846 - 3s - loss: 0.7982 - accuracy: 0.7492 - auc: 0.7309 - 3s/epoch - 4ms/step\n"
     ]
    },
    {
     "data": {
      "text/plain": [
       "[0.7982089519500732, 0.7491501569747925, 0.7308545708656311]"
      ]
     },
     "execution_count": 29,
     "metadata": {},
     "output_type": "execute_result"
    }
   ],
   "source": [
    "model.evaluate(np.expand_dims(x2,-1),  to_categorical(y2), verbose=2)"
   ]
  },
  {
   "cell_type": "code",
   "execution_count": 30,
   "id": "d3209666",
   "metadata": {},
   "outputs": [],
   "source": [
    "x2_train, y2_train, x2_test, y2_test = np.concatenate((x2[:15000],x2[22000:])),np.concatenate((y2[:15000],y2[22000:])),x2[15000:22000],y2[15000:22000]\n"
   ]
  },
  {
   "cell_type": "code",
   "execution_count": 31,
   "id": "bff627af",
   "metadata": {},
   "outputs": [
    {
     "name": "stdout",
     "output_type": "stream",
     "text": [
      "Epoch 1/10\n",
      "627/627 [==============================] - 5s 8ms/step - loss: 0.6087 - accuracy: 0.7252 - auc: 0.7316 - val_loss: 0.5578 - val_accuracy: 0.7541 - val_auc: 0.7541\n",
      "Epoch 2/10\n",
      "627/627 [==============================] - 5s 7ms/step - loss: 0.5779 - accuracy: 0.7469 - auc: 0.7459 - val_loss: 0.5594 - val_accuracy: 0.7541 - val_auc: 0.7541\n",
      "Epoch 3/10\n",
      "627/627 [==============================] - 4s 7ms/step - loss: 0.5715 - accuracy: 0.7477 - auc: 0.7498 - val_loss: 0.5588 - val_accuracy: 0.7541 - val_auc: 0.7541\n",
      "Epoch 4/10\n",
      "627/627 [==============================] - 4s 7ms/step - loss: 0.5706 - accuracy: 0.7477 - auc: 0.7474 - val_loss: 0.5586 - val_accuracy: 0.7541 - val_auc: 0.7541\n",
      "Epoch 5/10\n",
      "627/627 [==============================] - 4s 7ms/step - loss: 0.5686 - accuracy: 0.7477 - auc: 0.7481 - val_loss: 0.5590 - val_accuracy: 0.7541 - val_auc: 0.7541\n",
      "Epoch 6/10\n",
      "627/627 [==============================] - 4s 7ms/step - loss: 0.5681 - accuracy: 0.7477 - auc: 0.7454 - val_loss: 0.5591 - val_accuracy: 0.7541 - val_auc: 0.7541\n",
      "Epoch 7/10\n",
      "627/627 [==============================] - 4s 7ms/step - loss: 0.5670 - accuracy: 0.7477 - auc: 0.7471 - val_loss: 0.5578 - val_accuracy: 0.7541 - val_auc: 0.7541\n",
      "Epoch 8/10\n",
      "627/627 [==============================] - 4s 7ms/step - loss: 0.5671 - accuracy: 0.7477 - auc: 0.7447 - val_loss: 0.5580 - val_accuracy: 0.7541 - val_auc: 0.7541\n",
      "Epoch 9/10\n",
      "627/627 [==============================] - 5s 7ms/step - loss: 0.5666 - accuracy: 0.7477 - auc: 0.7434 - val_loss: 0.5581 - val_accuracy: 0.7541 - val_auc: 0.7541\n",
      "Epoch 10/10\n",
      "627/627 [==============================] - 4s 7ms/step - loss: 0.5659 - accuracy: 0.7477 - auc: 0.7480 - val_loss: 0.5580 - val_accuracy: 0.7541 - val_auc: 0.7541\n"
     ]
    }
   ],
   "source": [
    "shuffled_index_train =np.arange(0,len(y2_train))\n",
    "np.random.shuffle(shuffled_index_train)\n",
    "x2_train,y2_train = x2_train[shuffled_index_train,:,:],y2_train[shuffled_index_train]\n",
    "x2_train, y2_train, x2_test, y2_test= np.expand_dims(x2_train,-1),to_categorical(y2_train),np.expand_dims(x2_test,-1),to_categorical(y2_test)\n",
    "history = model.fit(x2_train, y2_train, epochs=10, \n",
    "                    validation_data=(x2_test, y2_test))"
   ]
  },
  {
   "cell_type": "code",
   "execution_count": 32,
   "id": "24af475e",
   "metadata": {},
   "outputs": [
    {
     "data": {
      "text/plain": [
       "<matplotlib.legend.Legend at 0x7fe5f82879a0>"
      ]
     },
     "execution_count": 32,
     "metadata": {},
     "output_type": "execute_result"
    },
    {
     "data": {
      "image/png": "[encoded data removed]",
      "text/plain": [
       "<Figure size 432x288 with 1 Axes>"
      ]
     },
     "metadata": {
      "needs_background": "light"
     },
     "output_type": "display_data"
    }
   ],
   "source": [
    "plt.plot(history.history['val_auc'], label = 'val_AUC')\n",
    "plt.xlabel('Epoch')\n",
    "plt.ylabel('AUC')\n",
    "plt.legend(loc='lower right')"
   ]
  },
  {
   "cell_type": "code",
   "execution_count": null,
   "id": "0cf7e92c",
   "metadata": {},
   "outputs": [],
   "source": []
  }
 ],
 "metadata": {
  "kernelspec": {
   "display_name": "Python 3 (ipykernel)",
   "language": "python",
   "name": "python3"
  },
  "language_info": {
   "codemirror_mode": {
    "name": "ipython",
    "version": 3
   },
   "file_extension": ".py",
   "mimetype": "text/x-python",
   "name": "python",
   "nbconvert_exporter": "python",
   "pygments_lexer": "ipython3",
   "version": "3.10.4"
  }
 },
 "nbformat": 4,
 "nbformat_minor": 5
}

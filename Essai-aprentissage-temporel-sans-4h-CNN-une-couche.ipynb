{
 "cells": [
  {
   "cell_type": "markdown",
   "id": "3c50b7ea",
   "metadata": {},
   "source": [
    "# Essai apprentissage - 1 couche\n",
    "Dataset prep : temporel + sans 4heure avant sans 4h apres"
   ]
  },
  {
   "cell_type": "code",
   "execution_count": 1,
   "id": "4e5a49ca",
   "metadata": {},
   "outputs": [],
   "source": [
    "import tensorflow as tf\n",
    "\n",
    "from tensorflow.keras import datasets, layers, models\n",
    "import matplotlib.pyplot as plt\n",
    "import numpy as np\n",
    "from tensorflow.keras.utils import to_categorical\n",
    "\n",
    "from keras.models import Sequential, Model\n",
    "from keras.layers import Input\n",
    "from keras.layers.core import Dense, Dropout, Activation, Flatten, Lambda, Reshape, Permute\n",
    "from keras.layers.convolutional import Convolution1D, Convolution2D, MaxPooling1D, MaxPooling2D\n",
    "from tensorflow.keras.layers import BatchNormalization\n",
    "from keras.utils import np_utils\n",
    "from tensorflow.keras.optimizers import SGD,Adam,Adagrad,Adadelta,RMSprop\n",
    "from keras.constraints import max_norm"
   ]
  },
  {
   "cell_type": "markdown",
   "id": "0b301b55",
   "metadata": {},
   "source": [
    "# Training du CNN sur le patient 1"
   ]
  },
  {
   "cell_type": "code",
   "execution_count": 2,
   "id": "f41fc0e4",
   "metadata": {},
   "outputs": [],
   "source": [
    "x,y = np.load('/data/thomas/classification epilepsy/chb-mit-scalp-eeg-database-1.0.0/dataset/4hours/temporel'+str(1)+'_x_4hours.npy'),np.load('/data/thomas/classification epilepsy/chb-mit-scalp-eeg-database-1.0.0/dataset/4hours/temporel'+str(1)+'_y_4hours.npy')\n",
    "train_images, train_labels,test_images, test_labels = np.expand_dims(x[19075:],-1),to_categorical(y[19075:]),np.expand_dims(x[:19075],-1),to_categorical(y[:19075])"
   ]
  },
  {
   "cell_type": "code",
   "execution_count": null,
   "id": "2d061d96",
   "metadata": {},
   "outputs": [],
   "source": []
  },
  {
   "cell_type": "code",
   "execution_count": 3,
   "id": "43dda9a9",
   "metadata": {},
   "outputs": [
    {
     "data": {
      "image/png": "[encoded data removed]",
      "text/plain": [
       "<Figure size 432x288 with 1 Axes>"
      ]
     },
     "metadata": {
      "needs_background": "light"
     },
     "output_type": "display_data"
    },
    {
     "data": {
      "image/png": "[encoded data removed]",
      "text/plain": [
       "<Figure size 432x288 with 1 Axes>"
      ]
     },
     "metadata": {
      "needs_background": "light"
     },
     "output_type": "display_data"
    }
   ],
   "source": [
    "plt.plot(np.arange(0,len(y)),y)\n",
    "plt.show()\n",
    "plt.plot(np.arange(0,len(test_labels)),test_labels[:,1])\n",
    "plt.plot(np.arange(len(test_labels),len(test_labels)+len(train_labels)),train_labels[:,1])\n",
    "plt.show()\n"
   ]
  },
  {
   "cell_type": "code",
   "execution_count": 4,
   "id": "bd389807",
   "metadata": {},
   "outputs": [],
   "source": [
    "shuffled_index_train =np.arange(0,len(train_labels))\n",
    "np.random.shuffle(shuffled_index_train)\n",
    "train_images, train_labels = train_images[shuffled_index_train,:,:,:],train_labels[shuffled_index_train,:]"
   ]
  },
  {
   "cell_type": "code",
   "execution_count": 5,
   "id": "e5f6dd4d",
   "metadata": {},
   "outputs": [
    {
     "data": {
      "image/png": "[encoded data removed]",
      "text/plain": [
       "<Figure size 432x288 with 1 Axes>"
      ]
     },
     "metadata": {
      "needs_background": "light"
     },
     "output_type": "display_data"
    }
   ],
   "source": [
    "plt.plot(np.arange(0,len(test_labels)),test_labels[:,1])\n",
    "plt.plot(np.arange(len(test_labels),len(test_labels)+len(train_labels)),train_labels[:,1],',')\n",
    "plt.show()"
   ]
  },
  {
   "cell_type": "code",
   "execution_count": 6,
   "id": "76afc792",
   "metadata": {},
   "outputs": [
    {
     "data": {
      "text/plain": [
       "(87273, 256, 16, 1)"
      ]
     },
     "execution_count": 6,
     "metadata": {},
     "output_type": "execute_result"
    }
   ],
   "source": [
    "train_images.shape"
   ]
  },
  {
   "cell_type": "code",
   "execution_count": 7,
   "id": "d66216a0",
   "metadata": {},
   "outputs": [
    {
     "name": "stderr",
     "output_type": "stream",
     "text": [
      "2022-07-08 10:19:03.115102: I tensorflow/core/platform/cpu_feature_guard.cc:151] This TensorFlow binary is optimized with oneAPI Deep Neural Network Library (oneDNN) to use the following CPU instructions in performance-critical operations:  SSE4.1 SSE4.2 AVX AVX2 AVX512F FMA\n",
      "To enable them in other operations, rebuild TensorFlow with the appropriate compiler flags.\n",
      "2022-07-08 10:19:04.022185: I tensorflow/core/common_runtime/gpu/gpu_device.cc:1525] Created device /job:localhost/replica:0/task:0/device:GPU:0 with 9639 MB memory:  -> device: 0, name: NVIDIA GeForce GTX 1080 Ti, pci bus id: 0000:65:00.0, compute capability: 6.1\n",
      "2022-07-08 10:19:05.668418: I tensorflow/stream_executor/cuda/cuda_dnn.cc:368] Loaded cuDNN version 8201\n"
     ]
    },
    {
     "name": "stdout",
     "output_type": "stream",
     "text": [
      "597/597 - 4s - loss: 0.7217 - accuracy: 0.4568 - auc: 0.4529 - 4s/epoch - 6ms/step\n"
     ]
    },
    {
     "data": {
      "text/plain": [
       "[0.721695065498352, 0.4568282961845398, 0.4528893530368805]"
      ]
     },
     "execution_count": 7,
     "metadata": {},
     "output_type": "execute_result"
    }
   ],
   "source": [
    "model = models.Sequential()\n",
    "\n",
    "#model.add(layers.Input(train_images.shape[1:]))\n",
    "model.add(layers.BatchNormalization(axis=1, name='normal1'))\n",
    "model.add(layers.Convolution2D(1,(16,10),activation = 'relu',padding='valid', strides=(1,2),name='conv1'))\n",
    "model.add(layers.MaxPooling2D(pool_size=(3,2)))\n",
    "\n",
    "#model.add(layers.BatchNormalization(axis=1, name='normal2'))\n",
    "#model.add(layers.Convolution2D(2,(1,2),activation = 'relu',padding='valid', strides=(1,2),name='conv2'))\n",
    "#model.add(layers.MaxPooling2D(pool_size=(2,1)))\n",
    "\n",
    "#model.add(layers.BatchNormalization(axis=1, name='normal3'))\n",
    "#model.add(layers.Convolution2D(64,(1,3),activation = 'relu',padding='valid', strides=(1,1),name='conv3'))\n",
    "#model.add(layers.MaxPooling2D(pool_size=(2,1)))\n",
    "\n",
    "model.add(layers.Flatten())\n",
    "model.add(layers.Dropout(0.5))\n",
    "\n",
    "\n",
    "\n",
    "model.add(layers.Dense(32, activation='softmax',name='dens1'))\n",
    "model.add(layers.Dropout(0.5))\n",
    "\n",
    "\n",
    "\n",
    "model.add(layers.Dense(2, activation='softmax',name='dens2'))\n",
    "\n",
    "\n",
    "model.compile(\n",
    "    loss='categorical_crossentropy',\n",
    "    optimizer='sgd',\n",
    "    metrics=['accuracy','AUC'])\n",
    "model.evaluate(test_images,  test_labels, verbose=2)\n"
   ]
  },
  {
   "cell_type": "code",
   "execution_count": 8,
   "id": "fb9fc395",
   "metadata": {},
   "outputs": [
    {
     "name": "stdout",
     "output_type": "stream",
     "text": [
      "Model: \"sequential\"\n",
      "_________________________________________________________________\n",
      " Layer (type)                Output Shape              Param #   \n",
      "=================================================================\n",
      " normal1 (BatchNormalization  (None, 256, 16, 1)       1024      \n",
      " )                                                               \n",
      "                                                                 \n",
      " conv1 (Conv2D)              (None, 241, 4, 1)         161       \n",
      "                                                                 \n",
      " max_pooling2d (MaxPooling2D  (None, 80, 2, 1)         0         \n",
      " )                                                               \n",
      "                                                                 \n",
      " flatten (Flatten)           (None, 160)               0         \n",
      "                                                                 \n",
      " dropout (Dropout)           (None, 160)               0         \n",
      "                                                                 \n",
      " dens1 (Dense)               (None, 32)                5152      \n",
      "                                                                 \n",
      " dropout_1 (Dropout)         (None, 32)                0         \n",
      "                                                                 \n",
      " dens2 (Dense)               (None, 2)                 66        \n",
      "                                                                 \n",
      "=================================================================\n",
      "Total params: 6,403\n",
      "Trainable params: 5,891\n",
      "Non-trainable params: 512\n",
      "_________________________________________________________________\n"
     ]
    }
   ],
   "source": [
    "model.summary()\n"
   ]
  },
  {
   "cell_type": "code",
   "execution_count": 9,
   "id": "ac1f5680",
   "metadata": {},
   "outputs": [
    {
     "name": "stderr",
     "output_type": "stream",
     "text": [
      "2022-07-07 16:03:19.884463: W tensorflow/core/framework/cpu_allocator_impl.cc:82] Allocation of 1429880832 exceeds 10% of free system memory.\n",
      "2022-07-07 16:03:21.027203: W tensorflow/core/framework/cpu_allocator_impl.cc:82] Allocation of 1429880832 exceeds 10% of free system memory.\n"
     ]
    },
    {
     "name": "stdout",
     "output_type": "stream",
     "text": [
      "Epoch 1/20\n",
      "2728/2728 [==============================] - 17s 6ms/step - loss: 0.5830 - accuracy: 0.6417 - auc: 0.7404 - val_loss: 0.4403 - val_accuracy: 0.9476 - val_auc: 0.9791\n",
      "Epoch 2/20\n",
      "2728/2728 [==============================] - 15s 5ms/step - loss: 0.4918 - accuracy: 0.7048 - auc: 0.8767 - val_loss: 0.3792 - val_accuracy: 0.9597 - val_auc: 0.9884\n",
      "Epoch 3/20\n",
      "2728/2728 [==============================] - 15s 6ms/step - loss: 0.4502 - accuracy: 0.7110 - auc: 0.8953 - val_loss: 0.3383 - val_accuracy: 0.9597 - val_auc: 0.9888\n",
      "Epoch 4/20\n",
      "2728/2728 [==============================] - 15s 6ms/step - loss: 0.4179 - accuracy: 0.7486 - auc: 0.9045 - val_loss: 0.3138 - val_accuracy: 0.9633 - val_auc: 0.9888\n",
      "Epoch 5/20\n",
      "2728/2728 [==============================] - 15s 6ms/step - loss: 0.3898 - accuracy: 0.9346 - auc: 0.9584 - val_loss: 0.2974 - val_accuracy: 0.9574 - val_auc: 0.9875\n",
      "Epoch 6/20\n",
      "2728/2728 [==============================] - 15s 6ms/step - loss: 0.3634 - accuracy: 0.9470 - auc: 0.9651 - val_loss: 0.2722 - val_accuracy: 0.9638 - val_auc: 0.9898\n",
      "Epoch 7/20\n",
      "2728/2728 [==============================] - 15s 6ms/step - loss: 0.3441 - accuracy: 0.9528 - auc: 0.9690 - val_loss: 0.2654 - val_accuracy: 0.9559 - val_auc: 0.9887\n",
      "Epoch 8/20\n",
      "2728/2728 [==============================] - 15s 6ms/step - loss: 0.3227 - accuracy: 0.9561 - auc: 0.9709 - val_loss: 0.2482 - val_accuracy: 0.9609 - val_auc: 0.9878\n",
      "Epoch 9/20\n",
      "2728/2728 [==============================] - 15s 6ms/step - loss: 0.3057 - accuracy: 0.9583 - auc: 0.9730 - val_loss: 0.2375 - val_accuracy: 0.9588 - val_auc: 0.9861\n",
      "Epoch 10/20\n",
      "2728/2728 [==============================] - 15s 5ms/step - loss: 0.2889 - accuracy: 0.9584 - auc: 0.9745 - val_loss: 0.2276 - val_accuracy: 0.9554 - val_auc: 0.9850\n",
      "Epoch 11/20\n",
      "2728/2728 [==============================] - 15s 5ms/step - loss: 0.2771 - accuracy: 0.9594 - auc: 0.9750 - val_loss: 0.2151 - val_accuracy: 0.9594 - val_auc: 0.9846\n",
      "Epoch 12/20\n",
      "2728/2728 [==============================] - 15s 6ms/step - loss: 0.2656 - accuracy: 0.9591 - auc: 0.9752 - val_loss: 0.2117 - val_accuracy: 0.9571 - val_auc: 0.9843\n",
      "Epoch 13/20\n",
      "2728/2728 [==============================] - 15s 6ms/step - loss: 0.2572 - accuracy: 0.9595 - auc: 0.9753 - val_loss: 0.2143 - val_accuracy: 0.9531 - val_auc: 0.9816\n",
      "Epoch 14/20\n",
      "2728/2728 [==============================] - 15s 6ms/step - loss: 0.2486 - accuracy: 0.9596 - auc: 0.9761 - val_loss: 0.2081 - val_accuracy: 0.9516 - val_auc: 0.9821\n",
      "Epoch 15/20\n",
      "2728/2728 [==============================] - 15s 5ms/step - loss: 0.2394 - accuracy: 0.9601 - auc: 0.9770 - val_loss: 0.2041 - val_accuracy: 0.9515 - val_auc: 0.9818\n",
      "Epoch 16/20\n",
      "2728/2728 [==============================] - 15s 6ms/step - loss: 0.2317 - accuracy: 0.9600 - auc: 0.9774 - val_loss: 0.1852 - val_accuracy: 0.9563 - val_auc: 0.9869\n",
      "Epoch 17/20\n",
      "2728/2728 [==============================] - 15s 6ms/step - loss: 0.2259 - accuracy: 0.9595 - auc: 0.9777 - val_loss: 0.1826 - val_accuracy: 0.9556 - val_auc: 0.9854\n",
      "Epoch 18/20\n",
      "2728/2728 [==============================] - 15s 5ms/step - loss: 0.2201 - accuracy: 0.9599 - auc: 0.9782 - val_loss: 0.1876 - val_accuracy: 0.9542 - val_auc: 0.9837\n",
      "Epoch 19/20\n",
      "2728/2728 [==============================] - 15s 6ms/step - loss: 0.2151 - accuracy: 0.9600 - auc: 0.9782 - val_loss: 0.1747 - val_accuracy: 0.9558 - val_auc: 0.9859\n",
      "Epoch 20/20\n",
      "2728/2728 [==============================] - 15s 6ms/step - loss: 0.2118 - accuracy: 0.9596 - auc: 0.9780 - val_loss: 0.1723 - val_accuracy: 0.9578 - val_auc: 0.9842\n"
     ]
    }
   ],
   "source": [
    "\n",
    "\n",
    "history = model.fit(train_images, train_labels, epochs=20, \n",
    "                    validation_data=(test_images, test_labels))\n"
   ]
  },
  {
   "cell_type": "code",
   "execution_count": 10,
   "id": "cbe0d655",
   "metadata": {},
   "outputs": [
    {
     "data": {
      "text/plain": [
       "<matplotlib.legend.Legend at 0x7fd5db6748e0>"
      ]
     },
     "execution_count": 10,
     "metadata": {},
     "output_type": "execute_result"
    },
    {
     "data": {
      "image/png": "[encoded data removed]",
      "text/plain": [
       "<Figure size 432x288 with 1 Axes>"
      ]
     },
     "metadata": {
      "needs_background": "light"
     },
     "output_type": "display_data"
    }
   ],
   "source": [
    "plt.plot(history.history['val_auc'], label = 'val_AUC')\n",
    "plt.plot(history.history['auc'], label = 'AUC')\n",
    "plt.xlabel('Epoch')\n",
    "plt.ylabel('AUC')\n",
    "plt.legend(loc='lower right')\n",
    "\n",
    "#model.evaluate(test_images,  test_labels, verbose=2)\n"
   ]
  },
  {
   "cell_type": "code",
   "execution_count": 12,
   "id": "f873abc8",
   "metadata": {},
   "outputs": [
    {
     "name": "stdout",
     "output_type": "stream",
     "text": [
      "Model: \"sequential\"\n",
      "_________________________________________________________________\n",
      " Layer (type)                Output Shape              Param #   \n",
      "=================================================================\n",
      " normal1 (BatchNormalization  (None, 256, 16, 1)       1024      \n",
      " )                                                               \n",
      "                                                                 \n",
      " conv1 (Conv2D)              (None, 241, 4, 1)         161       \n",
      "                                                                 \n",
      " max_pooling2d (MaxPooling2D  (None, 80, 2, 1)         0         \n",
      " )                                                               \n",
      "                                                                 \n",
      " flatten (Flatten)           (None, 160)               0         \n",
      "                                                                 \n",
      " dropout (Dropout)           (None, 160)               0         \n",
      "                                                                 \n",
      " dens1 (Dense)               (None, 32)                5152      \n",
      "                                                                 \n",
      " dropout_1 (Dropout)         (None, 32)                0         \n",
      "                                                                 \n",
      " dens2 (Dense)               (None, 2)                 66        \n",
      "                                                                 \n",
      "=================================================================\n",
      "Total params: 6,403\n",
      "Trainable params: 5,218\n",
      "Non-trainable params: 1,185\n",
      "_________________________________________________________________\n"
     ]
    }
   ],
   "source": [
    "for i in range(8):\n",
    "    if i <= 3:\n",
    "        model.layers[i].trainable = False\n",
    "    else:\n",
    "        model.layers[i].trainable = True\n",
    "model.summary()"
   ]
  },
  {
   "cell_type": "markdown",
   "id": "780b5e37",
   "metadata": {},
   "source": [
    "# Transfert du modèle sur le patient 10"
   ]
  },
  {
   "cell_type": "code",
   "execution_count": 9,
   "id": "171ef68a",
   "metadata": {},
   "outputs": [
    {
     "data": {
      "image/png": "[encoded data removed]",
      "text/plain": [
       "<Figure size 432x288 with 1 Axes>"
      ]
     },
     "metadata": {
      "needs_background": "light"
     },
     "output_type": "display_data"
    }
   ],
   "source": [
    "x2,y2 = np.load('/data/thomas/classification epilepsy/chb-mit-scalp-eeg-database-1.0.0/dataset/4hours/temporel'+str(10)+'_x_4hours.npy'),np.load('/data/thomas/classification epilepsy/chb-mit-scalp-eeg-database-1.0.0/dataset/4hours/temporel'+str(10)+'_y_4hours.npy')\n",
    "plt.plot(np.arange(0,len(y2)),y2)\n",
    "plt.show()"
   ]
  },
  {
   "cell_type": "code",
   "execution_count": 10,
   "id": "45ecb832",
   "metadata": {},
   "outputs": [
    {
     "name": "stderr",
     "output_type": "stream",
     "text": [
      "2022-07-08 10:19:22.024114: W tensorflow/core/framework/cpu_allocator_impl.cc:82] Allocation of 2200059904 exceeds 10% of free system memory.\n",
      "2022-07-08 10:19:23.606663: W tensorflow/core/framework/cpu_allocator_impl.cc:82] Allocation of 2200059904 exceeds 10% of free system memory.\n"
     ]
    },
    {
     "name": "stdout",
     "output_type": "stream",
     "text": [
      "4197/4197 - 15s - loss: 0.7119 - accuracy: 0.4740 - auc: 0.4873 - 15s/epoch - 4ms/step\n"
     ]
    },
    {
     "data": {
      "text/plain": [
       "[0.7118965983390808, 0.4739762246608734, 0.48731866478919983]"
      ]
     },
     "execution_count": 10,
     "metadata": {},
     "output_type": "execute_result"
    }
   ],
   "source": [
    "model.evaluate(np.expand_dims(x2,-1),  to_categorical(y2), verbose=2)"
   ]
  },
  {
   "cell_type": "code",
   "execution_count": 11,
   "id": "dcd76718",
   "metadata": {},
   "outputs": [],
   "source": [
    "x2_train, y2_train, x2_test, y2_test = np.concatenate((x2[:47000],x2[70000:])),np.concatenate((y2[:47000],y2[70000:])),x2[47000:70000,:,:],y2[47000:70000]\n"
   ]
  },
  {
   "cell_type": "code",
   "execution_count": 12,
   "id": "99ad8a6c",
   "metadata": {},
   "outputs": [
    {
     "data": {
      "image/png": "[encoded data removed]",
      "text/plain": [
       "<Figure size 432x288 with 1 Axes>"
      ]
     },
     "metadata": {
      "needs_background": "light"
     },
     "output_type": "display_data"
    },
    {
     "data": {
      "image/png": "[encoded data removed]",
      "text/plain": [
       "<Figure size 432x288 with 1 Axes>"
      ]
     },
     "metadata": {
      "needs_background": "light"
     },
     "output_type": "display_data"
    },
    {
     "data": {
      "image/png": "[encoded data removed]",
      "text/plain": [
       "<Figure size 432x288 with 1 Axes>"
      ]
     },
     "metadata": {
      "needs_background": "light"
     },
     "output_type": "display_data"
    }
   ],
   "source": [
    "plt.plot(np.arange(0,len(y2_train)),y2_train)\n",
    "plt.show()\n",
    "plt.plot(np.arange(0,len(y2_test)),y2_test)\n",
    "plt.show()\n",
    "plt.plot(np.concatenate((np.arange(0,len(y2))[:47000],np.arange(0,len(y2))[70000:])),np.concatenate((y2[:47000],y2[70000:])))\n",
    "plt.plot(np.arange(0,len(y2))[47000:70000],y2[47000:70000])\n",
    "plt.show()"
   ]
  },
  {
   "cell_type": "code",
   "execution_count": 13,
   "id": "7ab468d2",
   "metadata": {},
   "outputs": [
    {
     "name": "stderr",
     "output_type": "stream",
     "text": [
      "2022-07-08 10:19:43.015852: W tensorflow/core/framework/cpu_allocator_impl.cc:82] Allocation of 1823227904 exceeds 10% of free system memory.\n",
      "2022-07-08 10:19:44.342966: W tensorflow/core/framework/cpu_allocator_impl.cc:82] Allocation of 1823227904 exceeds 10% of free system memory.\n"
     ]
    },
    {
     "name": "stdout",
     "output_type": "stream",
     "text": [
      "Epoch 1/10\n",
      "3478/3478 [==============================] - 22s 6ms/step - loss: 0.5341 - accuracy: 0.7270 - auc: 0.8103 - val_loss: 0.3440 - val_accuracy: 0.9900 - val_auc: 0.9948\n",
      "Epoch 2/10\n",
      "3478/3478 [==============================] - 21s 6ms/step - loss: 0.4439 - accuracy: 0.7551 - auc: 0.9202 - val_loss: 0.3004 - val_accuracy: 0.9909 - val_auc: 0.9951\n",
      "Epoch 3/10\n",
      "3478/3478 [==============================] - 21s 6ms/step - loss: 0.3997 - accuracy: 0.7564 - auc: 0.9272 - val_loss: 0.2715 - val_accuracy: 0.9913 - val_auc: 0.9941\n",
      "Epoch 4/10\n",
      "3478/3478 [==============================] - 21s 6ms/step - loss: 0.3640 - accuracy: 0.7554 - auc: 0.9279 - val_loss: 0.2485 - val_accuracy: 0.9885 - val_auc: 0.9920\n",
      "Epoch 5/10\n",
      "3478/3478 [==============================] - 21s 6ms/step - loss: 0.3310 - accuracy: 0.8926 - auc: 0.9609 - val_loss: 0.2242 - val_accuracy: 0.9910 - val_auc: 0.9940\n",
      "Epoch 6/10\n",
      "3478/3478 [==============================] - 21s 6ms/step - loss: 0.3050 - accuracy: 0.9683 - auc: 0.9760 - val_loss: 0.2056 - val_accuracy: 0.9907 - val_auc: 0.9934\n",
      "Epoch 7/10\n",
      "3478/3478 [==============================] - 20s 6ms/step - loss: 0.2816 - accuracy: 0.9703 - auc: 0.9775 - val_loss: 0.1859 - val_accuracy: 0.9911 - val_auc: 0.9951\n",
      "Epoch 8/10\n",
      "3478/3478 [==============================] - 21s 6ms/step - loss: 0.2609 - accuracy: 0.9715 - auc: 0.9787 - val_loss: 0.1702 - val_accuracy: 0.9912 - val_auc: 0.9951\n",
      "Epoch 9/10\n",
      "3478/3478 [==============================] - 21s 6ms/step - loss: 0.2465 - accuracy: 0.9721 - auc: 0.9791 - val_loss: 0.1505 - val_accuracy: 0.9913 - val_auc: 0.9956\n",
      "Epoch 10/10\n",
      "3478/3478 [==============================] - 20s 6ms/step - loss: 0.2319 - accuracy: 0.9718 - auc: 0.9799 - val_loss: 0.1384 - val_accuracy: 0.9917 - val_auc: 0.9946\n"
     ]
    }
   ],
   "source": [
    "shuffled_index_train =np.arange(0,len(y2_train))\n",
    "np.random.shuffle(shuffled_index_train)\n",
    "x2_train,y2_train = x2_train[shuffled_index_train,:,:],y2_train[shuffled_index_train]\n",
    "x2_train, y2_train, x2_test, y2_test= np.expand_dims(x2_train,-1),to_categorical(y2_train),np.expand_dims(x2_test,-1),to_categorical(y2_test)\n",
    "history = model.fit(x2_train, y2_train, epochs=10, \n",
    "                    validation_data=(x2_test, y2_test))"
   ]
  },
  {
   "cell_type": "code",
   "execution_count": 14,
   "id": "09512073",
   "metadata": {},
   "outputs": [
    {
     "data": {
      "text/plain": [
       "<matplotlib.legend.Legend at 0x7fca3c353c70>"
      ]
     },
     "execution_count": 14,
     "metadata": {},
     "output_type": "execute_result"
    },
    {
     "data": {
      "image/png": "[encoded data removed]",
      "text/plain": [
       "<Figure size 432x288 with 1 Axes>"
      ]
     },
     "metadata": {
      "needs_background": "light"
     },
     "output_type": "display_data"
    }
   ],
   "source": [
    "plt.plot(history.history['val_auc'], label = 'val_AUC')\n",
    "plt.plot(history.history['auc'], label = 'AUC')\n",
    "plt.xlabel('Epoch')\n",
    "plt.ylabel('AUC')\n",
    "\n",
    "plt.legend(loc='lower right')"
   ]
  },
  {
   "cell_type": "markdown",
   "id": "d6949599",
   "metadata": {},
   "source": [
    "# transfert du modele sur le patient 7"
   ]
  },
  {
   "cell_type": "code",
   "execution_count": 15,
   "id": "78b6dedd",
   "metadata": {},
   "outputs": [
    {
     "data": {
      "image/png": "[encoded data removed]",
      "text/plain": [
       "<Figure size 432x288 with 1 Axes>"
      ]
     },
     "metadata": {
      "needs_background": "light"
     },
     "output_type": "display_data"
    }
   ],
   "source": [
    "n_patient = 7\n",
    "x2,y2 = np.load('/data/thomas/classification epilepsy/chb-mit-scalp-eeg-database-1.0.0/dataset/4hours/temporel'+str(n_patient)+'_x_4hours.npy'),np.load('/data/thomas/classification epilepsy/chb-mit-scalp-eeg-database-1.0.0/dataset/4hours/temporel'+str(n_patient)+'_y_4hours.npy')\n",
    "plt.plot(np.arange(0,len(y2)),y2)\n",
    "plt.show()"
   ]
  },
  {
   "cell_type": "code",
   "execution_count": 16,
   "id": "8d165896",
   "metadata": {},
   "outputs": [
    {
     "name": "stderr",
     "output_type": "stream",
     "text": [
      "2022-07-08 10:23:27.981298: W tensorflow/core/framework/cpu_allocator_impl.cc:82] Allocation of 3693314048 exceeds 10% of free system memory.\n"
     ]
    },
    {
     "name": "stdout",
     "output_type": "stream",
     "text": [
      "7045/7045 - 26s - loss: 0.3353 - accuracy: 0.9158 - auc: 0.8779 - 26s/epoch - 4ms/step\n"
     ]
    },
    {
     "data": {
      "text/plain": [
       "[0.33534443378448486, 0.9158245325088501, 0.877850353717804]"
      ]
     },
     "execution_count": 16,
     "metadata": {},
     "output_type": "execute_result"
    }
   ],
   "source": [
    "model.evaluate(np.expand_dims(x2,-1),  to_categorical(y2), verbose=2)"
   ]
  },
  {
   "cell_type": "code",
   "execution_count": 17,
   "id": "f2ed922a",
   "metadata": {},
   "outputs": [],
   "source": [
    "x2_train, y2_train, x2_test, y2_test = x2[:153000],y2[:153000],x2[153000:],y2[153000:]\n"
   ]
  },
  {
   "cell_type": "code",
   "execution_count": 18,
   "id": "c6e8c524",
   "metadata": {},
   "outputs": [
    {
     "name": "stdout",
     "output_type": "stream",
     "text": [
      "Epoch 1/10\n",
      "4782/4782 [==============================] - 36s 8ms/step - loss: 0.1797 - accuracy: 0.9108 - auc: 0.9806 - val_loss: 0.2894 - val_accuracy: 0.9283 - val_auc: 0.9130\n",
      "Epoch 2/10\n",
      "4782/4782 [==============================] - 35s 7ms/step - loss: 0.1420 - accuracy: 0.9182 - auc: 0.9894 - val_loss: 0.2788 - val_accuracy: 0.9305 - val_auc: 0.9144\n",
      "Epoch 3/10\n",
      "4782/4782 [==============================] - 33s 7ms/step - loss: 0.1352 - accuracy: 0.9179 - auc: 0.9894 - val_loss: 0.2746 - val_accuracy: 0.9301 - val_auc: 0.9165\n",
      "Epoch 4/10\n",
      "4782/4782 [==============================] - 33s 7ms/step - loss: 0.1299 - accuracy: 0.9184 - auc: 0.9896 - val_loss: 0.2669 - val_accuracy: 0.9350 - val_auc: 0.9170\n",
      "Epoch 5/10\n",
      "4782/4782 [==============================] - 33s 7ms/step - loss: 0.1242 - accuracy: 0.9194 - auc: 0.9900 - val_loss: 0.2672 - val_accuracy: 0.9352 - val_auc: 0.9192\n",
      "Epoch 6/10\n",
      "4782/4782 [==============================] - 33s 7ms/step - loss: 0.1199 - accuracy: 0.9199 - auc: 0.9902 - val_loss: 0.2684 - val_accuracy: 0.9346 - val_auc: 0.9177\n",
      "Epoch 7/10\n",
      "4782/4782 [==============================] - 34s 7ms/step - loss: 0.1162 - accuracy: 0.9340 - auc: 0.9910 - val_loss: 0.2648 - val_accuracy: 0.9364 - val_auc: 0.9237\n",
      "Epoch 8/10\n",
      "4782/4782 [==============================] - 34s 7ms/step - loss: 0.1131 - accuracy: 0.9849 - auc: 0.9951 - val_loss: 0.2665 - val_accuracy: 0.9365 - val_auc: 0.9203\n",
      "Epoch 9/10\n",
      "4782/4782 [==============================] - 34s 7ms/step - loss: 0.1098 - accuracy: 0.9860 - auc: 0.9953 - val_loss: 0.2911 - val_accuracy: 0.9265 - val_auc: 0.9129\n",
      "Epoch 10/10\n",
      "4782/4782 [==============================] - 34s 7ms/step - loss: 0.1081 - accuracy: 0.9863 - auc: 0.9953 - val_loss: 0.2765 - val_accuracy: 0.9335 - val_auc: 0.9264\n"
     ]
    }
   ],
   "source": [
    "shuffled_index_train =np.arange(0,len(y2_train))\n",
    "np.random.shuffle(shuffled_index_train)\n",
    "x2_train,y2_train = x2_train[shuffled_index_train,:,:],y2_train[shuffled_index_train]\n",
    "x2_train, y2_train, x2_test, y2_test= np.expand_dims(x2_train,-1),to_categorical(y2_train),np.expand_dims(x2_test,-1),to_categorical(y2_test)\n",
    "history = model.fit(x2_train, y2_train, epochs=10, \n",
    "                    validation_data=(x2_test, y2_test))"
   ]
  },
  {
   "cell_type": "code",
   "execution_count": 19,
   "id": "ff1a8647",
   "metadata": {},
   "outputs": [
    {
     "data": {
      "text/plain": [
       "<matplotlib.legend.Legend at 0x7fcb17ebee60>"
      ]
     },
     "execution_count": 19,
     "metadata": {},
     "output_type": "execute_result"
    },
    {
     "data": {
      "image/png": "[encoded data removed]",
      "text/plain": [
       "<Figure size 432x288 with 1 Axes>"
      ]
     },
     "metadata": {
      "needs_background": "light"
     },
     "output_type": "display_data"
    }
   ],
   "source": [
    "plt.plot(history.history['val_auc'], label = 'val_AUC')\n",
    "plt.plot(history.history['auc'], label = 'AUC')\n",
    "plt.xlabel('Epoch')\n",
    "plt.ylabel('AUC')\n",
    "plt.legend(loc='lower right')"
   ]
  },
  {
   "cell_type": "markdown",
   "id": "23b32443",
   "metadata": {},
   "source": [
    "# Transfert sur patient 22"
   ]
  },
  {
   "cell_type": "code",
   "execution_count": 20,
   "id": "a04abaa9",
   "metadata": {},
   "outputs": [
    {
     "data": {
      "image/png": "[encoded data removed]",
      "text/plain": [
       "<Figure size 432x288 with 1 Axes>"
      ]
     },
     "metadata": {
      "needs_background": "light"
     },
     "output_type": "display_data"
    }
   ],
   "source": [
    "n_patient = 22\n",
    "x2,y2 = np.load('/data/thomas/classification epilepsy/chb-mit-scalp-eeg-database-1.0.0/dataset/4hours/temporel'+str(n_patient)+'_x_4hours.npy'),np.load('/data/thomas/classification epilepsy/chb-mit-scalp-eeg-database-1.0.0/dataset/4hours/temporel'+str(n_patient)+'_y_4hours.npy')\n",
    "plt.plot(np.arange(0,len(y2)),y2)\n",
    "plt.show()"
   ]
  },
  {
   "cell_type": "code",
   "execution_count": 21,
   "id": "a60add1d",
   "metadata": {},
   "outputs": [
    {
     "name": "stdout",
     "output_type": "stream",
     "text": [
      "2248/2248 - 8s - loss: 0.3438 - accuracy: 0.9037 - auc: 0.9282 - 8s/epoch - 4ms/step\n"
     ]
    },
    {
     "data": {
      "text/plain": [
       "[0.3437965512275696, 0.9037062525749207, 0.928244948387146]"
      ]
     },
     "execution_count": 21,
     "metadata": {},
     "output_type": "execute_result"
    }
   ],
   "source": [
    "model.evaluate(np.expand_dims(x2,-1),  to_categorical(y2), verbose=2)"
   ]
  },
  {
   "cell_type": "code",
   "execution_count": 22,
   "id": "fbdfa0fb",
   "metadata": {},
   "outputs": [],
   "source": [
    "x2_train, y2_train, x2_test, y2_test = np.concatenate((x2[:30000],x2[55000:])),np.concatenate((y2[:30000],y2[55000:])),x2[30000:55000],y2[30000:55000]\n"
   ]
  },
  {
   "cell_type": "code",
   "execution_count": 23,
   "id": "7fef5363",
   "metadata": {},
   "outputs": [
    {
     "name": "stdout",
     "output_type": "stream",
     "text": [
      "Epoch 1/10\n",
      "1466/1466 [==============================] - 12s 8ms/step - loss: 0.1837 - accuracy: 0.9685 - auc: 0.9828 - val_loss: 0.2709 - val_accuracy: 0.8963 - val_auc: 0.9644\n",
      "Epoch 2/10\n",
      "1466/1466 [==============================] - 11s 7ms/step - loss: 0.1509 - accuracy: 0.9781 - auc: 0.9902 - val_loss: 0.2844 - val_accuracy: 0.8933 - val_auc: 0.9627\n",
      "Epoch 3/10\n",
      "1466/1466 [==============================] - 11s 7ms/step - loss: 0.1443 - accuracy: 0.9798 - auc: 0.9916 - val_loss: 0.3194 - val_accuracy: 0.8776 - val_auc: 0.9568\n",
      "Epoch 4/10\n",
      "1466/1466 [==============================] - 11s 7ms/step - loss: 0.1384 - accuracy: 0.9822 - auc: 0.9924 - val_loss: 0.3219 - val_accuracy: 0.8786 - val_auc: 0.9509\n",
      "Epoch 5/10\n",
      "1466/1466 [==============================] - 11s 7ms/step - loss: 0.1377 - accuracy: 0.9807 - auc: 0.9927 - val_loss: 0.2615 - val_accuracy: 0.9052 - val_auc: 0.9676\n",
      "Epoch 6/10\n",
      "1466/1466 [==============================] - 11s 7ms/step - loss: 0.1340 - accuracy: 0.9825 - auc: 0.9929 - val_loss: 0.3343 - val_accuracy: 0.8741 - val_auc: 0.9504\n",
      "Epoch 7/10\n",
      "1466/1466 [==============================] - 11s 7ms/step - loss: 0.1297 - accuracy: 0.9830 - auc: 0.9936 - val_loss: 0.3112 - val_accuracy: 0.8835 - val_auc: 0.9596\n",
      "Epoch 8/10\n",
      "1466/1466 [==============================] - 11s 7ms/step - loss: 0.1294 - accuracy: 0.9835 - auc: 0.9934 - val_loss: 0.2814 - val_accuracy: 0.8976 - val_auc: 0.9645\n",
      "Epoch 9/10\n",
      "1466/1466 [==============================] - 11s 8ms/step - loss: 0.1272 - accuracy: 0.9837 - auc: 0.9936 - val_loss: 0.3003 - val_accuracy: 0.8876 - val_auc: 0.9595\n",
      "Epoch 10/10\n",
      "1466/1466 [==============================] - 11s 7ms/step - loss: 0.1295 - accuracy: 0.9820 - auc: 0.9930 - val_loss: 0.2878 - val_accuracy: 0.8931 - val_auc: 0.9627\n"
     ]
    }
   ],
   "source": [
    "shuffled_index_train =np.arange(0,len(y2_train))\n",
    "np.random.shuffle(shuffled_index_train)\n",
    "x2_train,y2_train = x2_train[shuffled_index_train,:,:],y2_train[shuffled_index_train]\n",
    "x2_train, y2_train, x2_test, y2_test= np.expand_dims(x2_train,-1),to_categorical(y2_train),np.expand_dims(x2_test,-1),to_categorical(y2_test)\n",
    "history = model.fit(x2_train, y2_train, epochs=10, \n",
    "                    validation_data=(x2_test, y2_test))"
   ]
  },
  {
   "cell_type": "code",
   "execution_count": 24,
   "id": "ed6bb288",
   "metadata": {},
   "outputs": [
    {
     "data": {
      "text/plain": [
       "<matplotlib.legend.Legend at 0x7fcb17ef6ec0>"
      ]
     },
     "execution_count": 24,
     "metadata": {},
     "output_type": "execute_result"
    },
    {
     "data": {
      "image/png": "[encoded data removed]",
      "text/plain": [
       "<Figure size 432x288 with 1 Axes>"
      ]
     },
     "metadata": {
      "needs_background": "light"
     },
     "output_type": "display_data"
    }
   ],
   "source": [
    "plt.plot(history.history['val_auc'], label = 'val_AUC')\n",
    "plt.plot(history.history['auc'], label = 'AUC')\n",
    "plt.xlabel('Epoch')\n",
    "plt.ylabel('AUC')\n",
    "plt.legend(loc='lower right')"
   ]
  },
  {
   "cell_type": "markdown",
   "id": "9247b643",
   "metadata": {},
   "source": [
    "# transfert sur patient 16"
   ]
  },
  {
   "cell_type": "code",
   "execution_count": 25,
   "id": "839db2b7",
   "metadata": {},
   "outputs": [
    {
     "data": {
      "image/png": "[encoded data removed]",
      "text/plain": [
       "<Figure size 432x288 with 1 Axes>"
      ]
     },
     "metadata": {
      "needs_background": "light"
     },
     "output_type": "display_data"
    }
   ],
   "source": [
    "n_patient = 16\n",
    "x2,y2 = np.load('/data/thomas/classification epilepsy/chb-mit-scalp-eeg-database-1.0.0/dataset/4hours/temporel'+str(n_patient)+'_x_4hours.npy'),np.load('/data/thomas/classification epilepsy/chb-mit-scalp-eeg-database-1.0.0/dataset/4hours/temporel'+str(n_patient)+'_y_4hours.npy')\n",
    "plt.plot(np.arange(0,len(y2)),y2)\n",
    "plt.show()"
   ]
  },
  {
   "cell_type": "code",
   "execution_count": 26,
   "id": "62019b53",
   "metadata": {},
   "outputs": [
    {
     "name": "stdout",
     "output_type": "stream",
     "text": [
      "846/846 - 3s - loss: 1.0741 - accuracy: 0.6569 - auc: 0.7013 - 3s/epoch - 4ms/step\n"
     ]
    },
    {
     "data": {
      "text/plain": [
       "[1.0741076469421387, 0.6568504571914673, 0.7012758851051331]"
      ]
     },
     "execution_count": 26,
     "metadata": {},
     "output_type": "execute_result"
    }
   ],
   "source": [
    "model.evaluate(np.expand_dims(x2,-1),  to_categorical(y2), verbose=2)"
   ]
  },
  {
   "cell_type": "code",
   "execution_count": 27,
   "id": "871d1454",
   "metadata": {},
   "outputs": [],
   "source": [
    "x2_train, y2_train, x2_test, y2_test = np.concatenate((x2[:15000],x2[22000:])),np.concatenate((y2[:15000],y2[22000:])),x2[15000:22000],y2[15000:22000]\n"
   ]
  },
  {
   "cell_type": "code",
   "execution_count": 28,
   "id": "f6a6b237",
   "metadata": {},
   "outputs": [
    {
     "name": "stdout",
     "output_type": "stream",
     "text": [
      "Epoch 1/10\n",
      "627/627 [==============================] - 5s 8ms/step - loss: 0.7034 - accuracy: 0.6999 - auc: 0.7801 - val_loss: 0.4973 - val_accuracy: 0.6840 - val_auc: 0.8203\n",
      "Epoch 2/10\n",
      "627/627 [==============================] - 4s 7ms/step - loss: 0.4299 - accuracy: 0.7537 - auc: 0.8654 - val_loss: 0.3865 - val_accuracy: 0.7441 - val_auc: 0.8668\n",
      "Epoch 3/10\n",
      "627/627 [==============================] - 5s 7ms/step - loss: 0.3905 - accuracy: 0.7913 - auc: 0.8938 - val_loss: 0.3735 - val_accuracy: 0.7666 - val_auc: 0.8853\n",
      "Epoch 4/10\n",
      "627/627 [==============================] - 4s 7ms/step - loss: 0.3711 - accuracy: 0.8116 - auc: 0.9073 - val_loss: 0.3615 - val_accuracy: 0.7801 - val_auc: 0.8925\n",
      "Epoch 5/10\n",
      "627/627 [==============================] - 5s 7ms/step - loss: 0.3044 - accuracy: 0.8808 - auc: 0.9469 - val_loss: 0.3598 - val_accuracy: 0.8031 - val_auc: 0.9035\n",
      "Epoch 6/10\n",
      "627/627 [==============================] - 5s 7ms/step - loss: 0.2826 - accuracy: 0.8969 - auc: 0.9531 - val_loss: 0.3635 - val_accuracy: 0.8074 - val_auc: 0.9051\n",
      "Epoch 7/10\n",
      "627/627 [==============================] - 4s 7ms/step - loss: 0.2768 - accuracy: 0.8974 - auc: 0.9546 - val_loss: 0.3551 - val_accuracy: 0.8130 - val_auc: 0.9103\n",
      "Epoch 8/10\n",
      "627/627 [==============================] - 4s 7ms/step - loss: 0.2721 - accuracy: 0.9022 - auc: 0.9565 - val_loss: 0.3643 - val_accuracy: 0.8109 - val_auc: 0.9088\n",
      "Epoch 9/10\n",
      "627/627 [==============================] - 4s 7ms/step - loss: 0.2646 - accuracy: 0.9042 - auc: 0.9587 - val_loss: 0.3631 - val_accuracy: 0.8111 - val_auc: 0.9095\n",
      "Epoch 10/10\n",
      "627/627 [==============================] - 4s 7ms/step - loss: 0.2660 - accuracy: 0.9041 - auc: 0.9582 - val_loss: 0.3743 - val_accuracy: 0.8080 - val_auc: 0.9049\n"
     ]
    }
   ],
   "source": [
    "shuffled_index_train =np.arange(0,len(y2_train))\n",
    "np.random.shuffle(shuffled_index_train)\n",
    "x2_train,y2_train = x2_train[shuffled_index_train,:,:],y2_train[shuffled_index_train]\n",
    "x2_train, y2_train, x2_test, y2_test= np.expand_dims(x2_train,-1),to_categorical(y2_train),np.expand_dims(x2_test,-1),to_categorical(y2_test)\n",
    "history = model.fit(x2_train, y2_train, epochs=10, \n",
    "                    validation_data=(x2_test, y2_test))"
   ]
  },
  {
   "cell_type": "code",
   "execution_count": 29,
   "id": "b9214d76",
   "metadata": {},
   "outputs": [
    {
     "data": {
      "text/plain": [
       "<matplotlib.legend.Legend at 0x7fcb17dcf940>"
      ]
     },
     "execution_count": 29,
     "metadata": {},
     "output_type": "execute_result"
    },
    {
     "data": {
      "image/png": "[encoded data removed]",
      "text/plain": [
       "<Figure size 432x288 with 1 Axes>"
      ]
     },
     "metadata": {
      "needs_background": "light"
     },
     "output_type": "display_data"
    }
   ],
   "source": [
    "plt.plot(history.history['val_auc'], label = 'val_AUC')\n",
    "plt.plot(history.history['auc'], label = 'AUC')\n",
    "plt.xlabel('Epoch')\n",
    "plt.ylabel('AUC')\n",
    "plt.legend(loc='lower right')"
   ]
  },
  {
   "cell_type": "code",
   "execution_count": null,
   "id": "fcb03680",
   "metadata": {},
   "outputs": [],
   "source": []
  },
  {
   "cell_type": "code",
   "execution_count": null,
   "id": "cd92d547",
   "metadata": {},
   "outputs": [],
   "source": []
  }
 ],
 "metadata": {
  "kernelspec": {
   "display_name": "Python 3 (ipykernel)",
   "language": "python",
   "name": "python3"
  },
  "language_info": {
   "codemirror_mode": {
    "name": "ipython",
    "version": 3
   },
   "file_extension": ".py",
   "mimetype": "text/x-python",
   "name": "python",
   "nbconvert_exporter": "python",
   "pygments_lexer": "ipython3",
   "version": "3.10.4"
  }
 },
 "nbformat": 4,
 "nbformat_minor": 5
}
